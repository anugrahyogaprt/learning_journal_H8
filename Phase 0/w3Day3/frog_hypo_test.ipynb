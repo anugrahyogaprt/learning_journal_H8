{
  "nbformat": 4,
  "nbformat_minor": 0,
  "metadata": {
    "colab": {
      "name": "Untitled18.ipynb",
      "provenance": []
    },
    "kernelspec": {
      "name": "python3",
      "display_name": "Python 3"
    },
    "language_info": {
      "name": "python"
    }
  },
  "cells": [
    {
      "cell_type": "code",
      "execution_count": null,
      "metadata": {
        "id": "4DdRKun57CM5"
      },
      "outputs": [],
      "source": [
        "import numpy as np\n",
        "import pandas as pd\n",
        "import matplotlib.pyplot as plt\n",
        "import seaborn as sns\n",
        "\n",
        "sns.set()"
      ]
    },
    {
      "cell_type": "code",
      "source": [
        "def permutation_sample(data1, data2):\n",
        "  data = np.concatenate((data1, data2))\n",
        "\n",
        "  permuted_data = np.random.permutation(data)\n",
        "\n",
        "  perm_data1 = permuted_data[:len(data1)]\n",
        "  perm_data2 = permuted_data[len(data1):]\n",
        "\n",
        "  return perm_data1, perm_data2"
      ],
      "metadata": {
        "id": "DuGPNRfl7ZxN"
      },
      "execution_count": null,
      "outputs": []
    },
    {
      "cell_type": "code",
      "source": [
        "df = pd.read_csv(\"https://raw.githubusercontent.com/cschellenberger/Data-Science-Learning/master/frog_tongue.csv\", skiprows=14)\n",
        "df.head()"
      ],
      "metadata": {
        "colab": {
          "base_uri": "https://localhost:8080/",
          "height": 302
        },
        "id": "xF2ajIYt8IM1",
        "outputId": "09932396-6ae8-4e8e-f2bc-f482b3004542"
      },
      "execution_count": null,
      "outputs": [
        {
          "output_type": "execute_result",
          "data": {
            "text/plain": [
              "         date ID  trial number  impact force (mN)  impact time (ms)  \\\n",
              "0  2013_02_26  I             3               1205                46   \n",
              "1  2013_02_26  I             4               2527                44   \n",
              "2  2013_03_01  I             1               1745                34   \n",
              "3  2013_03_01  I             2               1556                41   \n",
              "4  2013_03_01  I             3                493                36   \n",
              "\n",
              "   impact force / body weight  adhesive force (mN)  \\\n",
              "0                        1.95                 -785   \n",
              "1                        4.08                 -983   \n",
              "2                        2.82                 -850   \n",
              "3                        2.51                 -455   \n",
              "4                        0.80                 -974   \n",
              "\n",
              "   time frog pulls on target (ms)  adhesive force / body weight  \\\n",
              "0                             884                          1.27   \n",
              "1                             248                          1.59   \n",
              "2                             211                          1.37   \n",
              "3                            1025                          0.74   \n",
              "4                             499                          1.57   \n",
              "\n",
              "   adhesive impulse (N-s)  total contact area (mm2)  \\\n",
              "0                  -0.290                       387   \n",
              "1                  -0.181                       101   \n",
              "2                  -0.157                        83   \n",
              "3                  -0.170                       330   \n",
              "4                  -0.423                       245   \n",
              "\n",
              "   contact area without mucus (mm2)  \\\n",
              "0                                70   \n",
              "1                                94   \n",
              "2                                79   \n",
              "3                               158   \n",
              "4                               216   \n",
              "\n",
              "   contact area with mucus / contact area without mucus  \\\n",
              "0                                               0.82      \n",
              "1                                               0.07      \n",
              "2                                               0.05      \n",
              "3                                               0.52      \n",
              "4                                               0.12      \n",
              "\n",
              "   contact pressure (Pa)  adhesive strength (Pa)  \n",
              "0                   3117                   -2030  \n",
              "1                  24923                   -9695  \n",
              "2                  21020                  -10239  \n",
              "3                   4718                   -1381  \n",
              "4                   2012                   -3975  "
            ],
            "text/html": [
              "\n",
              "  <div id=\"df-b8af154c-9fe5-4787-b484-e3e7e75c0171\">\n",
              "    <div class=\"colab-df-container\">\n",
              "      <div>\n",
              "<style scoped>\n",
              "    .dataframe tbody tr th:only-of-type {\n",
              "        vertical-align: middle;\n",
              "    }\n",
              "\n",
              "    .dataframe tbody tr th {\n",
              "        vertical-align: top;\n",
              "    }\n",
              "\n",
              "    .dataframe thead th {\n",
              "        text-align: right;\n",
              "    }\n",
              "</style>\n",
              "<table border=\"1\" class=\"dataframe\">\n",
              "  <thead>\n",
              "    <tr style=\"text-align: right;\">\n",
              "      <th></th>\n",
              "      <th>date</th>\n",
              "      <th>ID</th>\n",
              "      <th>trial number</th>\n",
              "      <th>impact force (mN)</th>\n",
              "      <th>impact time (ms)</th>\n",
              "      <th>impact force / body weight</th>\n",
              "      <th>adhesive force (mN)</th>\n",
              "      <th>time frog pulls on target (ms)</th>\n",
              "      <th>adhesive force / body weight</th>\n",
              "      <th>adhesive impulse (N-s)</th>\n",
              "      <th>total contact area (mm2)</th>\n",
              "      <th>contact area without mucus (mm2)</th>\n",
              "      <th>contact area with mucus / contact area without mucus</th>\n",
              "      <th>contact pressure (Pa)</th>\n",
              "      <th>adhesive strength (Pa)</th>\n",
              "    </tr>\n",
              "  </thead>\n",
              "  <tbody>\n",
              "    <tr>\n",
              "      <th>0</th>\n",
              "      <td>2013_02_26</td>\n",
              "      <td>I</td>\n",
              "      <td>3</td>\n",
              "      <td>1205</td>\n",
              "      <td>46</td>\n",
              "      <td>1.95</td>\n",
              "      <td>-785</td>\n",
              "      <td>884</td>\n",
              "      <td>1.27</td>\n",
              "      <td>-0.290</td>\n",
              "      <td>387</td>\n",
              "      <td>70</td>\n",
              "      <td>0.82</td>\n",
              "      <td>3117</td>\n",
              "      <td>-2030</td>\n",
              "    </tr>\n",
              "    <tr>\n",
              "      <th>1</th>\n",
              "      <td>2013_02_26</td>\n",
              "      <td>I</td>\n",
              "      <td>4</td>\n",
              "      <td>2527</td>\n",
              "      <td>44</td>\n",
              "      <td>4.08</td>\n",
              "      <td>-983</td>\n",
              "      <td>248</td>\n",
              "      <td>1.59</td>\n",
              "      <td>-0.181</td>\n",
              "      <td>101</td>\n",
              "      <td>94</td>\n",
              "      <td>0.07</td>\n",
              "      <td>24923</td>\n",
              "      <td>-9695</td>\n",
              "    </tr>\n",
              "    <tr>\n",
              "      <th>2</th>\n",
              "      <td>2013_03_01</td>\n",
              "      <td>I</td>\n",
              "      <td>1</td>\n",
              "      <td>1745</td>\n",
              "      <td>34</td>\n",
              "      <td>2.82</td>\n",
              "      <td>-850</td>\n",
              "      <td>211</td>\n",
              "      <td>1.37</td>\n",
              "      <td>-0.157</td>\n",
              "      <td>83</td>\n",
              "      <td>79</td>\n",
              "      <td>0.05</td>\n",
              "      <td>21020</td>\n",
              "      <td>-10239</td>\n",
              "    </tr>\n",
              "    <tr>\n",
              "      <th>3</th>\n",
              "      <td>2013_03_01</td>\n",
              "      <td>I</td>\n",
              "      <td>2</td>\n",
              "      <td>1556</td>\n",
              "      <td>41</td>\n",
              "      <td>2.51</td>\n",
              "      <td>-455</td>\n",
              "      <td>1025</td>\n",
              "      <td>0.74</td>\n",
              "      <td>-0.170</td>\n",
              "      <td>330</td>\n",
              "      <td>158</td>\n",
              "      <td>0.52</td>\n",
              "      <td>4718</td>\n",
              "      <td>-1381</td>\n",
              "    </tr>\n",
              "    <tr>\n",
              "      <th>4</th>\n",
              "      <td>2013_03_01</td>\n",
              "      <td>I</td>\n",
              "      <td>3</td>\n",
              "      <td>493</td>\n",
              "      <td>36</td>\n",
              "      <td>0.80</td>\n",
              "      <td>-974</td>\n",
              "      <td>499</td>\n",
              "      <td>1.57</td>\n",
              "      <td>-0.423</td>\n",
              "      <td>245</td>\n",
              "      <td>216</td>\n",
              "      <td>0.12</td>\n",
              "      <td>2012</td>\n",
              "      <td>-3975</td>\n",
              "    </tr>\n",
              "  </tbody>\n",
              "</table>\n",
              "</div>\n",
              "      <button class=\"colab-df-convert\" onclick=\"convertToInteractive('df-b8af154c-9fe5-4787-b484-e3e7e75c0171')\"\n",
              "              title=\"Convert this dataframe to an interactive table.\"\n",
              "              style=\"display:none;\">\n",
              "        \n",
              "  <svg xmlns=\"http://www.w3.org/2000/svg\" height=\"24px\"viewBox=\"0 0 24 24\"\n",
              "       width=\"24px\">\n",
              "    <path d=\"M0 0h24v24H0V0z\" fill=\"none\"/>\n",
              "    <path d=\"M18.56 5.44l.94 2.06.94-2.06 2.06-.94-2.06-.94-.94-2.06-.94 2.06-2.06.94zm-11 1L8.5 8.5l.94-2.06 2.06-.94-2.06-.94L8.5 2.5l-.94 2.06-2.06.94zm10 10l.94 2.06.94-2.06 2.06-.94-2.06-.94-.94-2.06-.94 2.06-2.06.94z\"/><path d=\"M17.41 7.96l-1.37-1.37c-.4-.4-.92-.59-1.43-.59-.52 0-1.04.2-1.43.59L10.3 9.45l-7.72 7.72c-.78.78-.78 2.05 0 2.83L4 21.41c.39.39.9.59 1.41.59.51 0 1.02-.2 1.41-.59l7.78-7.78 2.81-2.81c.8-.78.8-2.07 0-2.86zM5.41 20L4 18.59l7.72-7.72 1.47 1.35L5.41 20z\"/>\n",
              "  </svg>\n",
              "      </button>\n",
              "      \n",
              "  <style>\n",
              "    .colab-df-container {\n",
              "      display:flex;\n",
              "      flex-wrap:wrap;\n",
              "      gap: 12px;\n",
              "    }\n",
              "\n",
              "    .colab-df-convert {\n",
              "      background-color: #E8F0FE;\n",
              "      border: none;\n",
              "      border-radius: 50%;\n",
              "      cursor: pointer;\n",
              "      display: none;\n",
              "      fill: #1967D2;\n",
              "      height: 32px;\n",
              "      padding: 0 0 0 0;\n",
              "      width: 32px;\n",
              "    }\n",
              "\n",
              "    .colab-df-convert:hover {\n",
              "      background-color: #E2EBFA;\n",
              "      box-shadow: 0px 1px 2px rgba(60, 64, 67, 0.3), 0px 1px 3px 1px rgba(60, 64, 67, 0.15);\n",
              "      fill: #174EA6;\n",
              "    }\n",
              "\n",
              "    [theme=dark] .colab-df-convert {\n",
              "      background-color: #3B4455;\n",
              "      fill: #D2E3FC;\n",
              "    }\n",
              "\n",
              "    [theme=dark] .colab-df-convert:hover {\n",
              "      background-color: #434B5C;\n",
              "      box-shadow: 0px 1px 3px 1px rgba(0, 0, 0, 0.15);\n",
              "      filter: drop-shadow(0px 1px 2px rgba(0, 0, 0, 0.3));\n",
              "      fill: #FFFFFF;\n",
              "    }\n",
              "  </style>\n",
              "\n",
              "      <script>\n",
              "        const buttonEl =\n",
              "          document.querySelector('#df-b8af154c-9fe5-4787-b484-e3e7e75c0171 button.colab-df-convert');\n",
              "        buttonEl.style.display =\n",
              "          google.colab.kernel.accessAllowed ? 'block' : 'none';\n",
              "\n",
              "        async function convertToInteractive(key) {\n",
              "          const element = document.querySelector('#df-b8af154c-9fe5-4787-b484-e3e7e75c0171');\n",
              "          const dataTable =\n",
              "            await google.colab.kernel.invokeFunction('convertToInteractive',\n",
              "                                                     [key], {});\n",
              "          if (!dataTable) return;\n",
              "\n",
              "          const docLinkHtml = 'Like what you see? Visit the ' +\n",
              "            '<a target=\"_blank\" href=https://colab.research.google.com/notebooks/data_table.ipynb>data table notebook</a>'\n",
              "            + ' to learn more about interactive tables.';\n",
              "          element.innerHTML = '';\n",
              "          dataTable['output_type'] = 'display_data';\n",
              "          await google.colab.output.renderOutput(dataTable, element);\n",
              "          const docLink = document.createElement('div');\n",
              "          docLink.innerHTML = docLinkHtml;\n",
              "          element.appendChild(docLink);\n",
              "        }\n",
              "      </script>\n",
              "    </div>\n",
              "  </div>\n",
              "  "
            ]
          },
          "metadata": {},
          "execution_count": 4
        }
      ]
    },
    {
      "cell_type": "code",
      "source": [
        "# swarm plot\n",
        "sns.swarmplot(x='ID', y='impact force (mN)', data=df)\n",
        "\n",
        "plt.xlabel('frog')\n",
        "plt.ylabel('impact force (mN)')"
      ],
      "metadata": {
        "colab": {
          "base_uri": "https://localhost:8080/",
          "height": 302
        },
        "id": "EAFlofRT8Zta",
        "outputId": "2bc904a9-b266-4bee-ed34-91eca3a209ec"
      },
      "execution_count": null,
      "outputs": [
        {
          "output_type": "execute_result",
          "data": {
            "text/plain": [
              "Text(0, 0.5, 'impact force (mN)')"
            ]
          },
          "metadata": {},
          "execution_count": 6
        },
        {
          "output_type": "display_data",
          "data": {
            "text/plain": [
              "<Figure size 432x288 with 1 Axes>"
            ],
            "image/png": "[encoded data removed]"
          },
          "metadata": {}
        }
      ]
    },
    {
      "cell_type": "code",
      "source": [
        "df[df['ID'] == \"IV\"]['impact force (mN)']"
      ],
      "metadata": {
        "colab": {
          "base_uri": "https://localhost:8080/"
        },
        "id": "3Sissamo804S",
        "outputId": "2b4139d2-f929-441f-afa2-0ae87fddb69a"
      },
      "execution_count": null,
      "outputs": [
        {
          "output_type": "execute_result",
          "data": {
            "text/plain": [
              "419.1"
            ]
          },
          "metadata": {},
          "execution_count": 12
        }
      ]
    },
    {
      "cell_type": "code",
      "source": [
        "# permutation test\n",
        "frog_a = df[df['ID'] == \"III\"]['impact force (mN)']\n",
        "frog_b = df[df['ID'] == \"IV\"]['impact force (mN)']"
      ],
      "metadata": {
        "id": "X8QoLasc9H8b"
      },
      "execution_count": null,
      "outputs": []
    },
    {
      "cell_type": "code",
      "source": [
        "def diff_of_means(data_1, data_2):\n",
        "  diff = np.mean(data_1) - np.mean(data_2)\n",
        "\n",
        "  return diff"
      ],
      "metadata": {
        "id": "XZ9f1Se49tqk"
      },
      "execution_count": null,
      "outputs": []
    },
    {
      "cell_type": "code",
      "source": [
        "def do_replicate(data_1, data_2, size):\n",
        "  perm_replicates = np.empty(size)\n",
        "\n",
        "  for i in range(size):\n",
        "    perm_sample_1, perm_sample_2 = permutation_sample(data_1, data_2)\n",
        "\n",
        "    # hitung stat\n",
        "    perm_replicates[i] = diff_of_means(perm_sample_1, perm_sample_2)\n",
        "\n",
        "  return perm_replicates"
      ],
      "metadata": {
        "id": "zK_MpBjM-IgK"
      },
      "execution_count": null,
      "outputs": []
    },
    {
      "cell_type": "code",
      "source": [
        "diff_ori = diff_of_means(frog_a, frog_b)\n",
        "diff_ori"
      ],
      "metadata": {
        "colab": {
          "base_uri": "https://localhost:8080/"
        },
        "id": "9B7B45af_7SS",
        "outputId": "e893af74-a1ce-4646-95dd-4e25b84de330"
      },
      "execution_count": null,
      "outputs": [
        {
          "output_type": "execute_result",
          "data": {
            "text/plain": [
              "131.0"
            ]
          },
          "metadata": {},
          "execution_count": 27
        }
      ]
    },
    {
      "cell_type": "code",
      "source": [
        "perm_replicates = do_replicate(frog_a, frog_b, size=1000)\n",
        "np.sum(perm_replicates >= diff_ori)"
      ],
      "metadata": {
        "colab": {
          "base_uri": "https://localhost:8080/"
        },
        "id": "MaNLpb3d_-x4",
        "outputId": "63574496-5352-4877-e792-0747885b1af8"
      },
      "execution_count": null,
      "outputs": [
        {
          "output_type": "execute_result",
          "data": {
            "text/plain": [
              "10"
            ]
          },
          "metadata": {},
          "execution_count": 28
        }
      ]
    },
    {
      "cell_type": "code",
      "source": [
        "p_value = np.sum(perm_replicates >= diff_ori) / len(perm_replicates)\n",
        "p_value"
      ],
      "metadata": {
        "colab": {
          "base_uri": "https://localhost:8080/"
        },
        "id": "_9l-imENAMHJ",
        "outputId": "53b0eb5b-2159-4bfd-c7c7-67ceb75f8735"
      },
      "execution_count": null,
      "outputs": [
        {
          "output_type": "execute_result",
          "data": {
            "text/plain": [
              "0.01"
            ]
          },
          "metadata": {},
          "execution_count": 29
        }
      ]
    },
    {
      "cell_type": "code",
      "source": [
        ""
      ],
      "metadata": {
        "id": "Fnex2tl5ApD4"
      },
      "execution_count": null,
      "outputs": []
    }
  ]
}
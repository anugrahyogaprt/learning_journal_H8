{
 "cells": [
  {
   "cell_type": "code",
   "execution_count": 1,
   "metadata": {},
   "outputs": [],
   "source": [
    "import sympy as sy\n",
    "\n"
   ]
  },
  {
   "cell_type": "code",
   "execution_count": 9,
   "metadata": {},
   "outputs": [],
   "source": [
    "x = sy.Symbol('x')\n",
    "f = (1+sy.exp(-2*x))/(x+sy.tan(12*x))\n",
    "g = ((12*x)**(1/3) + (sy.sin(3*x)**2))**(-1)\n",
    "h = x**2"
   ]
  },
  {
   "cell_type": "code",
   "execution_count": 7,
   "metadata": {},
   "outputs": [
    {
     "data": {
      "text/latex": [
       "$\\displaystyle \\frac{1}{2.28942848510666 x^{0.333333333333333} + \\sin^{2}{\\left(3 x \\right)}}$"
      ],
      "text/plain": [
       "1/(2.28942848510666*x**0.333333333333333 + sin(3*x)**2)"
      ]
     },
     "execution_count": 7,
     "metadata": {},
     "output_type": "execute_result"
    }
   ],
   "source": [
    "g"
   ]
  },
  {
   "cell_type": "code",
   "execution_count": 5,
   "metadata": {},
   "outputs": [
    {
     "data": {
      "text/latex": [
       "$\\displaystyle \\frac{\\left(1 + e^{- 2 x}\\right) \\left(- 12 \\tan^{2}{\\left(12 x \\right)} - 13\\right)}{\\left(x + \\tan{\\left(12 x \\right)}\\right)^{2}} - \\frac{2 e^{- 2 x}}{x + \\tan{\\left(12 x \\right)}}$"
      ],
      "text/plain": [
       "(1 + exp(-2*x))*(-12*tan(12*x)**2 - 13)/(x + tan(12*x))**2 - 2*exp(-2*x)/(x + tan(12*x))"
      ]
     },
     "execution_count": 5,
     "metadata": {},
     "output_type": "execute_result"
    }
   ],
   "source": [
    "f.diff(x)"
   ]
  },
  {
   "cell_type": "code",
   "execution_count": 8,
   "metadata": {},
   "outputs": [
    {
     "data": {
      "text/latex": [
       "$\\displaystyle \\left(- \\frac{0.763142828368888}{x^{0.666666666666667}} - 6 \\sin{\\left(3 x \\right)} \\cos{\\left(3 x \\right)}\\right) \\frac{0.190785707092222}{\\left(x^{0.333333333333333} + 0.436790232368149 \\sin^{2}{\\left(3 x \\right)}\\right)^{2}}$"
      ],
      "text/plain": [
       "(-0.763142828368888/x**0.666666666666667 - 6*sin(3*x)*cos(3*x))*(0.190785707092222/(x**0.333333333333333 + 0.436790232368149*sin(3*x)**2)**2)"
      ]
     },
     "execution_count": 8,
     "metadata": {},
     "output_type": "execute_result"
    }
   ],
   "source": [
    "g.diff(x)"
   ]
  },
  {
   "cell_type": "code",
   "execution_count": 10,
   "metadata": {},
   "outputs": [
    {
     "data": {
      "text/latex": [
       "$\\displaystyle 2 x$"
      ],
      "text/plain": [
       "2*x"
      ]
     },
     "execution_count": 10,
     "metadata": {},
     "output_type": "execute_result"
    }
   ],
   "source": [
    "h.diff(x)"
   ]
  },
  {
   "cell_type": "code",
   "execution_count": null,
   "metadata": {},
   "outputs": [],
   "source": []
  }
 ],
 "metadata": {
  "interpreter": {
   "hash": "916dbcbb3f70747c44a77c7bcd40155683ae19c65e1c03b4aa3499c5328201f1"
  },
  "kernelspec": {
   "display_name": "Python 3.8.10 64-bit",
   "language": "python",
   "name": "python3"
  },
  "language_info": {
   "codemirror_mode": {
    "name": "ipython",
    "version": 3
   },
   "file_extension": ".py",
   "mimetype": "text/x-python",
   "name": "python",
   "nbconvert_exporter": "python",
   "pygments_lexer": "ipython3",
   "version": "3.8.10"
  },
  "orig_nbformat": 4
 },
 "nbformat": 4,
 "nbformat_minor": 2
}

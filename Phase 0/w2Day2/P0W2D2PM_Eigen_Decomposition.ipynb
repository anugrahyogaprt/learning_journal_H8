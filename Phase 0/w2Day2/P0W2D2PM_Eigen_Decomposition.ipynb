{
  "cells": [
    {
      "cell_type": "markdown",
      "metadata": {
        "id": "iCcnv_8eMEg-"
      },
      "source": [
        "# **EIGEN**"
      ]
    },
    {
      "cell_type": "code",
      "execution_count": 2,
      "metadata": {
        "id": "W2BAu3DRKase"
      },
      "outputs": [],
      "source": [
        "import numpy as np\n",
        "import matplotlib.pyplot as plt"
      ]
    },
    {
      "cell_type": "code",
      "execution_count": 3,
      "metadata": {
        "id": "RGLgkyKROTqB"
      },
      "outputs": [],
      "source": [
        "def plot_vector2d(vector2d, origin=[0, 0], **options):\n",
        "    return plt.arrow(origin[0], origin[1], vector2d[0], vector2d[1],\n",
        "              head_width=0.2, head_length=0.3, length_includes_head=True,\n",
        "              **options)"
      ]
    },
    {
      "cell_type": "code",
      "execution_count": 4,
      "metadata": {
        "id": "5znkTFVkZbvN"
      },
      "outputs": [],
      "source": [
        "a = np.array([2,0])\n",
        "b = a * -1"
      ]
    },
    {
      "cell_type": "code",
      "execution_count": 5,
      "metadata": {
        "colab": {
          "base_uri": "https://localhost:8080/",
          "height": 265
        },
        "id": "EPWzXedbZVhR",
        "outputId": "eb6fd5f7-f8d4-4582-854c-f4ab15a04820"
      },
      "outputs": [
        {
          "data": {
            "image/png": "[encoded data removed]",
            "text/plain": [
              "<Figure size 432x288 with 1 Axes>"
            ]
          },
          "metadata": {
            "needs_background": "light"
          },
          "output_type": "display_data"
        }
      ],
      "source": [
        "plot_vector2d(b, color=\"b\")\n",
        "plot_vector2d(a, color=\"r\")\n",
        "# plot_vector2d(b, color=\"b\")\n",
        "plt.plot([0,0], [-5,5], color='green')\n",
        "plt.axis([-5, 5, -5, 5])\n",
        "plt.grid()"
      ]
    },
    {
      "cell_type": "code",
      "execution_count": 6,
      "metadata": {
        "id": "51v9tG6-hfkP"
      },
      "outputs": [],
      "source": [
        "vec = np.array([[1,2],\n",
        "                [2,4]])\n",
        "\n",
        "eig_val, eig_vec = np.linalg.eig(vec)"
      ]
    },
    {
      "cell_type": "code",
      "execution_count": 7,
      "metadata": {
        "colab": {
          "base_uri": "https://localhost:8080/"
        },
        "id": "aZ7XMsC8h07t",
        "outputId": "a2b69a1f-73ac-4b43-f961-8071516cda7f"
      },
      "outputs": [
        {
          "data": {
            "text/plain": [
              "array([0., 5.])"
            ]
          },
          "execution_count": 7,
          "metadata": {},
          "output_type": "execute_result"
        }
      ],
      "source": [
        "eig_val"
      ]
    },
    {
      "cell_type": "code",
      "execution_count": 8,
      "metadata": {
        "colab": {
          "base_uri": "https://localhost:8080/"
        },
        "id": "4bgPBJFAh4kn",
        "outputId": "a57808d8-2381-400d-8a65-6a5b5d6dde8f"
      },
      "outputs": [
        {
          "data": {
            "text/plain": [
              "array([[-0.89442719, -0.4472136 ],\n",
              "       [ 0.4472136 , -0.89442719]])"
            ]
          },
          "execution_count": 8,
          "metadata": {},
          "output_type": "execute_result"
        }
      ],
      "source": [
        "eig_vec"
      ]
    },
    {
      "cell_type": "code",
      "execution_count": 30,
      "metadata": {},
      "outputs": [
        {
          "name": "stdout",
          "output_type": "stream",
          "text": [
            "[3. 2.]\n",
            "[[ 1.         -0.70710678]\n",
            " [ 0.          0.70710678]]\n"
          ]
        }
      ],
      "source": [
        "a = np.array([[3, 1],[0, 2]])\n",
        "val, eig = np.linalg.eig(a)\n",
        "print(val)\n",
        "print(eig)"
      ]
    },
    {
      "cell_type": "code",
      "execution_count": 10,
      "metadata": {
        "colab": {
          "base_uri": "https://localhost:8080/"
        },
        "id": "5Be6oiXdkFby",
        "outputId": "b8b498ce-7f68-432d-fad3-375e1b81af87"
      },
      "outputs": [
        {
          "name": "stdout",
          "output_type": "stream",
          "text": [
            "0.0 [-0.89442719 -0.4472136 ]\n",
            "5.0 [ 0.4472136  -0.89442719]\n"
          ]
        }
      ],
      "source": [
        "for i in range(0,2):\n",
        "  print(eig_val[i], eig_vec[i])"
      ]
    },
    {
      "cell_type": "code",
      "execution_count": 11,
      "metadata": {
        "colab": {
          "base_uri": "https://localhost:8080/"
        },
        "id": "14lqInFGiY8Z",
        "outputId": "ef0fc87a-a4ba-4ced-e3ff-22927e9f9e0f"
      },
      "outputs": [
        {
          "data": {
            "text/plain": [
              "array([0.4472136 , 0.89442719])"
            ]
          },
          "execution_count": 11,
          "metadata": {},
          "output_type": "execute_result"
        }
      ],
      "source": [
        "vec_1 = np.array([5, 10])\n",
        "vec_1 / np.sqrt(125)"
      ]
    },
    {
      "cell_type": "code",
      "execution_count": 12,
      "metadata": {
        "colab": {
          "base_uri": "https://localhost:8080/"
        },
        "id": "6wdMA8cJiiPn",
        "outputId": "61d457b2-f899-444b-d11d-ca9447447d4d"
      },
      "outputs": [
        {
          "data": {
            "text/plain": [
              "array([0.4472136 , 0.89442719])"
            ]
          },
          "execution_count": 12,
          "metadata": {},
          "output_type": "execute_result"
        }
      ],
      "source": [
        "vec_2 = np.array([1, 2])\n",
        "vec_2 / np.sqrt(5)"
      ]
    },
    {
      "cell_type": "code",
      "execution_count": 13,
      "metadata": {
        "colab": {
          "base_uri": "https://localhost:8080/"
        },
        "id": "F8e_06mRlqw8",
        "outputId": "9c57bd40-c8f0-400c-b240-1b5bd5674808"
      },
      "outputs": [
        {
          "data": {
            "text/plain": [
              "array([0., 5.])"
            ]
          },
          "execution_count": 13,
          "metadata": {},
          "output_type": "execute_result"
        }
      ],
      "source": [
        "# decomposition\n",
        "eig_val"
      ]
    },
    {
      "cell_type": "code",
      "execution_count": 14,
      "metadata": {
        "colab": {
          "base_uri": "https://localhost:8080/"
        },
        "id": "3zLL2Qb2lyCg",
        "outputId": "40974f8c-3978-48fb-9915-55343d719375"
      },
      "outputs": [
        {
          "data": {
            "text/plain": [
              "array([[-0.89442719, -0.4472136 ],\n",
              "       [ 0.4472136 , -0.89442719]])"
            ]
          },
          "execution_count": 14,
          "metadata": {},
          "output_type": "execute_result"
        }
      ],
      "source": [
        "eig_vec"
      ]
    },
    {
      "cell_type": "code",
      "execution_count": 15,
      "metadata": {
        "colab": {
          "base_uri": "https://localhost:8080/"
        },
        "id": "SyAxqN5ImLsb",
        "outputId": "b14a2c80-93f4-46ac-f0c6-295b83c7f270"
      },
      "outputs": [
        {
          "data": {
            "text/plain": [
              "array([[1, 2],\n",
              "       [2, 4]])"
            ]
          },
          "execution_count": 15,
          "metadata": {},
          "output_type": "execute_result"
        }
      ],
      "source": [
        "vec"
      ]
    },
    {
      "cell_type": "code",
      "execution_count": 16,
      "metadata": {
        "colab": {
          "base_uri": "https://localhost:8080/"
        },
        "id": "KlNRqWoMl0Bp",
        "outputId": "54c50e92-8a81-42e7-9054-2ac8e6b757b2"
      },
      "outputs": [
        {
          "data": {
            "text/plain": [
              "array([[1., 2.],\n",
              "       [2., 4.]])"
            ]
          },
          "execution_count": 16,
          "metadata": {},
          "output_type": "execute_result"
        }
      ],
      "source": [
        "deconstruct = eig_vec @ np.diag(eig_val) @ np.linalg.inv(eig_vec)\n",
        "deconstruct"
      ]
    },
    {
      "cell_type": "code",
      "execution_count": 17,
      "metadata": {
        "id": "SRUajChInpAh"
      },
      "outputs": [],
      "source": [
        "coba = np.array([[0, -1],\n",
        "          [1, 0]])\n",
        "\n",
        "eigval, eigvec = np.linalg.eig(coba)"
      ]
    },
    {
      "cell_type": "code",
      "execution_count": 18,
      "metadata": {
        "colab": {
          "base_uri": "https://localhost:8080/"
        },
        "id": "5inXFvS8n988",
        "outputId": "9736a79e-fc2f-4d4b-bb7c-896eeb96b64f"
      },
      "outputs": [
        {
          "name": "stdout",
          "output_type": "stream",
          "text": [
            "[1. 1.]\n"
          ]
        }
      ],
      "source": [
        "print(np.abs(eigval))"
      ]
    },
    {
      "cell_type": "code",
      "execution_count": 19,
      "metadata": {
        "colab": {
          "base_uri": "https://localhost:8080/"
        },
        "id": "ioL9KnOLoB09",
        "outputId": "d460509d-d174-4a0a-961f-239f74f702ad"
      },
      "outputs": [
        {
          "name": "stdout",
          "output_type": "stream",
          "text": [
            "[[0.70710678 0.70710678]\n",
            " [0.70710678 0.70710678]]\n"
          ]
        }
      ],
      "source": [
        "print(np.abs(eigvec))"
      ]
    },
    {
      "cell_type": "markdown",
      "metadata": {
        "id": "QXVtIhgTnSu1"
      },
      "source": [
        "## Case Study: Social Media Analysis"
      ]
    },
    {
      "cell_type": "code",
      "execution_count": 20,
      "metadata": {
        "colab": {
          "base_uri": "https://localhost:8080/"
        },
        "id": "5La55SYznRx8",
        "outputId": "68113242-4995-4bbb-b1b5-9b232204cec7"
      },
      "outputs": [
        {
          "data": {
            "text/plain": [
              "array([[0.  , 0.25, 0.  , 0.5 , 0.  , 0.  ],\n",
              "       [0.  , 0.  , 0.  , 0.  , 0.  , 0.  ],\n",
              "       [0.5 , 0.25, 0.  , 0.  , 0.  , 0.5 ],\n",
              "       [0.5 , 0.25, 0.  , 0.  , 0.  , 0.5 ],\n",
              "       [0.  , 0.25, 0.  , 0.5 , 0.  , 0.  ],\n",
              "       [0.  , 0.  , 0.  , 0.  , 0.  , 0.  ]])"
            ]
          },
          "execution_count": 20,
          "metadata": {},
          "output_type": "execute_result"
        }
      ],
      "source": [
        "sc = np.array([[0, .25, 0, .5, 0, 0],\n",
        "               [0, 0, 0, 0, 0, 0],\n",
        "               [.5, .25, 0, 0, 0, .5],\n",
        "               [.5, .25, 0, 0, 0, .5],\n",
        "               [0, .25, 0, .5, 0, 0],\n",
        "               [0, 0, 0, 0, 0, 0]])\n",
        "sc"
      ]
    },
    {
      "cell_type": "code",
      "execution_count": 21,
      "metadata": {
        "id": "bVGS_0y3rJhp"
      },
      "outputs": [],
      "source": [
        "# cari nilai eigen value dan eigen vector\n",
        "e_val, e_vec = np.linalg.eig(sc)"
      ]
    },
    {
      "cell_type": "code",
      "execution_count": 22,
      "metadata": {
        "colab": {
          "base_uri": "https://localhost:8080/"
        },
        "id": "BjwLjj3PrUY4",
        "outputId": "5eb41d32-cfe9-4367-aafc-fe9e83f2d9fc"
      },
      "outputs": [
        {
          "data": {
            "text/plain": [
              "array([ 0. ,  0. ,  0.5, -0.5,  0. ,  0. ])"
            ]
          },
          "execution_count": 22,
          "metadata": {},
          "output_type": "execute_result"
        }
      ],
      "source": [
        "e_val"
      ]
    },
    {
      "cell_type": "code",
      "execution_count": 23,
      "metadata": {
        "colab": {
          "base_uri": "https://localhost:8080/"
        },
        "id": "yw7yMvEirWS1",
        "outputId": "c23dbe5f-9ff7-4b4e-c085-28651da3f9fa"
      },
      "outputs": [
        {
          "data": {
            "text/plain": [
              "array([[ 0.00000000e+000,  0.00000000e+000,  5.00000000e-001,\n",
              "        -5.00000000e-001, -2.16623325e-276, -2.34960985e-276],\n",
              "       [ 0.00000000e+000,  0.00000000e+000,  0.00000000e+000,\n",
              "         0.00000000e+000,  4.33246650e-276,  0.00000000e+000],\n",
              "       [ 0.00000000e+000,  1.00000000e+000,  5.00000000e-001,\n",
              "         5.00000000e-001,  6.00000000e-001,  2.16930458e-001],\n",
              "       [ 0.00000000e+000,  0.00000000e+000,  5.00000000e-001,\n",
              "         5.00000000e-001, -2.16623325e-276,  1.10526918e-291],\n",
              "       [ 1.00000000e+000,  0.00000000e+000,  5.00000000e-001,\n",
              "        -5.00000000e-001, -8.00000000e-001, -9.76187060e-001],\n",
              "       [ 0.00000000e+000,  0.00000000e+000,  0.00000000e+000,\n",
              "         0.00000000e+000,  0.00000000e+000,  2.34960985e-276]])"
            ]
          },
          "execution_count": 23,
          "metadata": {},
          "output_type": "execute_result"
        }
      ],
      "source": [
        "e_vec"
      ]
    },
    {
      "cell_type": "code",
      "execution_count": 24,
      "metadata": {
        "colab": {
          "base_uri": "https://localhost:8080/"
        },
        "id": "rcVJOFR3rYKA",
        "outputId": "727d5933-c699-4b4b-e9cf-a21c33c73b2c"
      },
      "outputs": [
        {
          "data": {
            "text/plain": [
              "array([ 0. ,  0. ,  0.5, -0.5,  0. ,  0. ])"
            ]
          },
          "execution_count": 24,
          "metadata": {},
          "output_type": "execute_result"
        }
      ],
      "source": [
        "# step 2. cari posisi eigen value terbesar\n",
        "e_val"
      ]
    },
    {
      "cell_type": "code",
      "execution_count": 25,
      "metadata": {
        "colab": {
          "base_uri": "https://localhost:8080/"
        },
        "id": "WoaxLLs5rhTw",
        "outputId": "50a6f348-564e-4598-afba-54e81f57b4a7"
      },
      "outputs": [
        {
          "data": {
            "text/plain": [
              "2"
            ]
          },
          "execution_count": 25,
          "metadata": {},
          "output_type": "execute_result"
        }
      ],
      "source": [
        "np.argmax(e_val)"
      ]
    },
    {
      "cell_type": "code",
      "execution_count": 26,
      "metadata": {
        "colab": {
          "base_uri": "https://localhost:8080/"
        },
        "id": "d9piIAhwrnVO",
        "outputId": "2106d14b-4104-478f-dc53-9ab8ad4b41b7"
      },
      "outputs": [
        {
          "data": {
            "text/plain": [
              "array([0.        , 1.        , 0.5       , 0.5       , 0.6       ,\n",
              "       0.21693046])"
            ]
          },
          "execution_count": 26,
          "metadata": {},
          "output_type": "execute_result"
        }
      ],
      "source": [
        "# step 3. dari pasangan eigen value terbesar, cari posisi nilai terbesar di dalam eigen vectornya\n",
        "e_vec[2]"
      ]
    },
    {
      "cell_type": "code",
      "execution_count": 27,
      "metadata": {
        "colab": {
          "base_uri": "https://localhost:8080/"
        },
        "id": "OY8Tn3PmsOCI",
        "outputId": "00b8e2d7-2818-4f1a-e91e-35c55637a4ca"
      },
      "outputs": [
        {
          "data": {
            "text/plain": [
              "1"
            ]
          },
          "execution_count": 27,
          "metadata": {},
          "output_type": "execute_result"
        }
      ],
      "source": [
        "np.argmax(e_vec[2])"
      ]
    },
    {
      "cell_type": "markdown",
      "metadata": {
        "id": "BRjIot1psfjT"
      },
      "source": [
        "posisi ke-1 atau akun B memiliki pengaruh paling besar di dalam lingkup pergaulannya."
      ]
    }
  ],
  "metadata": {
    "colab": {
      "collapsed_sections": [],
      "name": "P0W2D2PM - Eigen Decomposition.ipynb",
      "provenance": []
    },
    "kernelspec": {
      "display_name": "Python 3",
      "name": "python3"
    },
    "language_info": {
      "codemirror_mode": {
        "name": "ipython",
        "version": 3
      },
      "file_extension": ".py",
      "mimetype": "text/x-python",
      "name": "python",
      "nbconvert_exporter": "python",
      "pygments_lexer": "ipython3",
      "version": "3.8.10"
    }
  },
  "nbformat": 4,
  "nbformat_minor": 0
}

{
 "cells": [
  {
   "cell_type": "markdown",
   "metadata": {},
   "source": [
    "'''\n",
    "Carilah Gradient dari sebuah fungsi berikut:3x+4y=5\n",
    "\n",
    "pakai symbolic dan numeric\n",
    "hitung  gradient, jacobian, dan hessian\n",
    "'''"
   ]
  },
  {
   "cell_type": "code",
   "execution_count": 2,
   "metadata": {},
   "outputs": [],
   "source": [
    "import sympy as sy\n",
    "import numpy as np\n",
    "import matplotlib.pyplot as plt"
   ]
  },
  {
   "cell_type": "code",
   "execution_count": 3,
   "metadata": {},
   "outputs": [
    {
     "data": {
      "text/latex": [
       "$\\displaystyle 2 x \\cos{\\left(y \\right)} + 2 y \\cos{\\left(x \\right)}$"
      ],
      "text/plain": [
       "2*x*cos(y) + 2*y*cos(x)"
      ]
     },
     "execution_count": 3,
     "metadata": {},
     "output_type": "execute_result"
    }
   ],
   "source": [
    "#Symbolic\n",
    "x, y = sy.symbols('x y')\n",
    "f = x**2*sy.cos(y) + 2*sy.sin(x)*y\n",
    "sy.diff(f, x)"
   ]
  },
  {
   "cell_type": "code",
   "execution_count": 4,
   "metadata": {},
   "outputs": [
    {
     "data": {
      "text/latex": [
       "$\\displaystyle - x^{2} \\sin{\\left(y \\right)} + 2 \\sin{\\left(x \\right)}$"
      ],
      "text/plain": [
       "-x**2*sin(y) + 2*sin(x)"
      ]
     },
     "execution_count": 4,
     "metadata": {},
     "output_type": "execute_result"
    }
   ],
   "source": [
    "sy.diff(f, y)"
   ]
  },
  {
   "cell_type": "code",
   "execution_count": 5,
   "metadata": {},
   "outputs": [
    {
     "data": {
      "text/plain": [
       "array([[ -2.49768811,  -4.03927785,  -2.79373717,   0.5615029 ,\n",
       "          4.82051066,   8.57526645,  10.59677495,  10.16772056,\n",
       "          7.27662505,   2.62095442,  -2.58166603,  -6.92302953,\n",
       "         -9.18551078,  -8.67164378,  -5.39290675,  -0.0666153 ,\n",
       "          6.07823524,  11.63362522,  15.39362294,  16.68079738],\n",
       "       [-14.4909568 , -13.42582742, -10.13855494,  -5.23526186,\n",
       "          0.20506031,   4.92260449,   7.8177433 ,   8.24866804,\n",
       "          6.20510871,   2.31111384,  -2.34386236,  -6.49984539,\n",
       "         -9.06738106,  -9.42242083,  -7.57523469,  -4.16763134,\n",
       "         -0.29923818,   2.77013772,   3.96150487,   2.66874074],\n",
       "       [-24.88425054, -21.53151061, -16.4861584 , -10.28300786,\n",
       "         -3.87411035,   1.62893968,   5.25588276,   6.4404171 ,\n",
       "          5.17348093,   2.00570532,  -2.10162662,  -6.03677269,\n",
       "         -8.83844975,  -9.95602676,  -9.39856547,  -7.73236768,\n",
       "         -5.92769286,  -5.09613546,  -6.18974683,  -9.74334094],\n",
       "       [-30.59117423, -25.88550145, -19.9128941 , -13.13685765,\n",
       "         -6.38250323,  -0.61321273,   3.33012232,   4.95670702,\n",
       "          4.25868787,   1.71327843,  -1.84640925,  -5.45686527,\n",
       "         -8.28497758,  -9.8535326 , -10.17038387,  -9.72632626,\n",
       "         -9.36225131, -10.04154089, -12.58930617, -17.46905258],\n",
       "       [-29.79380475, -25.03245425, -19.28570747, -12.94576131,\n",
       "         -6.71078677,  -1.3959531 ,   2.28721607,   3.92343276,\n",
       "          3.5060517 ,   1.43886897,  -1.57317445,  -4.71480096,\n",
       "         -7.28106959,  -8.86818425,  -9.48279022,  -9.54017548,\n",
       "         -9.75186364, -10.93302398, -13.78182748, -18.69047104],\n",
       "       [-22.43475286, -18.92642585, -14.56882959,  -9.68285245,\n",
       "         -4.83972523,  -0.70640463,   2.13495369,   3.34456864,\n",
       "          2.91700318,   1.18263593,  -1.28176324,  -3.80914899,\n",
       "         -5.82275147,  -6.99219202,  -7.32290772,  -7.15467963,\n",
       "         -7.06966344,  -7.73481582,  -9.72136758, -13.3502071 ],\n",
       "       [-10.23269697,  -8.94331115,  -6.8334589 ,  -4.15272009,\n",
       "         -1.34538534,   1.06980126,   2.64005197,   3.10109261,\n",
       "          2.44869437,   0.9398184 ,  -0.97693651,  -2.78275732,\n",
       "         -4.02904525,  -4.45883914,  -4.07636781,  -3.14590544,\n",
       "         -2.12023976,  -1.51811486,  -1.78382138,  -3.16693916],\n",
       "       [  3.78281607,   2.49157397,   2.03218286,   2.22637142,\n",
       "          2.75678921,   3.25290473,   3.39129817,   2.98320225,\n",
       "          2.0255964 ,   0.7020243 ,  -0.66708635,  -1.7111548 ,\n",
       "         -2.10975336,  -1.67933834,  -0.42293032,   1.47070343,\n",
       "          3.67814309,   5.82885717,   7.60549523,   8.82978594],\n",
       "       [ 16.09138625,  12.55995911,   9.83394056,   7.8063678 ,\n",
       "          6.28683056,   5.05300994,   3.91085406,   2.74710256,\n",
       "          1.55994308,   0.45950183,  -0.36196456,  -0.68210765,\n",
       "         -0.30867081,   0.86847216,   2.84750891,   5.51517909,\n",
       "          8.6774308 ,  12.11194515,  15.62831187,  19.11956817],\n",
       "       [ 23.6346362 ,  18.81344802,  14.66562334,  11.1555079 ,\n",
       "          8.21963161,   5.78388818,   3.78359364,   2.18099454,\n",
       "          0.97548675,   0.20377902,  -0.07004311,   0.22813651,\n",
       "          1.16240341,   2.76946634,   5.04872117,   7.96241446,\n",
       "         11.44586223,  15.4249582 ,  19.83623227,  24.64403018],\n",
       "       [ 24.64403018,  19.83623227,  15.4249582 ,  11.44586223,\n",
       "          7.96241446,   5.04872117,   2.76946634,   1.16240341,\n",
       "          0.22813651,  -0.07004311,   0.20377902,   0.97548675,\n",
       "          2.18099454,   3.78359364,   5.78388818,   8.21963161,\n",
       "         11.1555079 ,  14.66562334,  18.81344802,  23.6346362 ],\n",
       "       [ 19.11956817,  15.62831187,  12.11194515,   8.6774308 ,\n",
       "          5.51517909,   2.84750891,   0.86847216,  -0.30867081,\n",
       "         -0.68210765,  -0.36196456,   0.45950183,   1.55994308,\n",
       "          2.74710256,   3.91085406,   5.05300994,   6.28683056,\n",
       "          7.8063678 ,   9.83394056,  12.55995911,  16.09138625],\n",
       "       [  8.82978594,   7.60549523,   5.82885717,   3.67814309,\n",
       "          1.47070343,  -0.42293032,  -1.67933834,  -2.10975336,\n",
       "         -1.7111548 ,  -0.66708635,   0.7020243 ,   2.0255964 ,\n",
       "          2.98320225,   3.39129817,   3.25290473,   2.75678921,\n",
       "          2.22637142,   2.03218286,   2.49157397,   3.78281607],\n",
       "       [ -3.16693916,  -1.78382138,  -1.51811486,  -2.12023976,\n",
       "         -3.14590544,  -4.07636781,  -4.45883914,  -4.02904525,\n",
       "         -2.78275732,  -0.97693651,   0.9398184 ,   2.44869437,\n",
       "          3.10109261,   2.64005197,   1.06980126,  -1.34538534,\n",
       "         -4.15272009,  -6.8334589 ,  -8.94331115, -10.23269697],\n",
       "       [-13.3502071 ,  -9.72136758,  -7.73481582,  -7.06966344,\n",
       "         -7.15467963,  -7.32290772,  -6.99219202,  -5.82275147,\n",
       "         -3.80914899,  -1.28176324,   1.18263593,   2.91700318,\n",
       "          3.34456864,   2.13495369,  -0.70640463,  -4.83972523,\n",
       "         -9.68285245, -14.56882959, -18.92642585, -22.43475286],\n",
       "       [-18.69047104, -13.78182748, -10.93302398,  -9.75186364,\n",
       "         -9.54017548,  -9.48279022,  -8.86818425,  -7.28106959,\n",
       "         -4.71480096,  -1.57317445,   1.43886897,   3.5060517 ,\n",
       "          3.92343276,   2.28721607,  -1.3959531 ,  -6.71078677,\n",
       "        -12.94576131, -19.28570747, -25.03245425, -29.79380475],\n",
       "       [-17.46905258, -12.58930617, -10.04154089,  -9.36225131,\n",
       "         -9.72632626, -10.17038387,  -9.8535326 ,  -8.28497758,\n",
       "         -5.45686527,  -1.84640925,   1.71327843,   4.25868787,\n",
       "          4.95670702,   3.33012232,  -0.61321273,  -6.38250323,\n",
       "        -13.13685765, -19.9128941 , -25.88550145, -30.59117423],\n",
       "       [ -9.74334094,  -6.18974683,  -5.09613546,  -5.92769286,\n",
       "         -7.73236768,  -9.39856547,  -9.95602676,  -8.83844975,\n",
       "         -6.03677269,  -2.10162662,   2.00570532,   5.17348093,\n",
       "          6.4404171 ,   5.25588276,   1.62893968,  -3.87411035,\n",
       "        -10.28300786, -16.4861584 , -21.53151061, -24.88425054],\n",
       "       [  2.66874074,   3.96150487,   2.77013772,  -0.29923818,\n",
       "         -4.16763134,  -7.57523469,  -9.42242083,  -9.06738106,\n",
       "         -6.49984539,  -2.34386236,   2.31111384,   6.20510871,\n",
       "          8.24866804,   7.8177433 ,   4.92260449,   0.20506031,\n",
       "         -5.23526186, -10.13855494, -13.42582742, -14.4909568 ],\n",
       "       [ 16.68079738,  15.39362294,  11.63362522,   6.07823524,\n",
       "         -0.0666153 ,  -5.39290675,  -8.67164378,  -9.18551078,\n",
       "         -6.92302953,  -2.58166603,   2.62095442,   7.27662505,\n",
       "         10.16772056,  10.59677495,   8.57526645,   4.82051066,\n",
       "          0.5615029 ,  -2.79373717,  -4.03927785,  -2.49768811]])"
      ]
     },
     "execution_count": 5,
     "metadata": {},
     "output_type": "execute_result"
    }
   ],
   "source": [
    "#Numeric\n",
    "a = np.linspace(-5, 5, 20)\n",
    "b = np.linspace(-5, 5, 20)\n",
    "def f(a, b):\n",
    "    return a**2*np.cos(b) + 2*np.sin(a)*b\n",
    "c = np.array([[f(i, j) for i in a] for j in b])\n",
    "c\n"
   ]
  },
  {
   "cell_type": "code",
   "execution_count": 6,
   "metadata": {},
   "outputs": [],
   "source": [
    "dx, dy = np.gradient(c)"
   ]
  },
  {
   "cell_type": "code",
   "execution_count": 7,
   "metadata": {},
   "outputs": [
    {
     "data": {
      "text/plain": [
       "array([[-1.19932687e+01, -9.38654957e+00, -7.34481777e+00,\n",
       "        -5.79676475e+00, -4.61545035e+00, -3.65266196e+00,\n",
       "        -2.77903165e+00, -1.91905253e+00, -1.07151635e+00,\n",
       "        -3.09840585e-01,  2.37803673e-01,  4.23184136e-01,\n",
       "         1.18129720e-01, -7.50777049e-01, -2.18232794e+00,\n",
       "        -4.10101604e+00, -6.37747342e+00, -8.86348749e+00,\n",
       "        -1.14321181e+01, -1.40120566e+01],\n",
       "       [-1.11932812e+01, -8.74611638e+00, -6.84621061e+00,\n",
       "        -5.42225538e+00, -4.34731050e+00, -3.47316338e+00,\n",
       "        -2.67044609e+00, -1.86365173e+00, -1.05157206e+00,\n",
       "        -3.07624554e-01,  2.40019705e-01,  4.43128422e-01,\n",
       "         1.73530515e-01, -6.42191491e-01, -2.00282936e+00,\n",
       "        -3.83287619e+00, -6.00296405e+00, -8.36488034e+00,\n",
       "        -1.07916849e+01, -1.32120692e+01],\n",
       "       [-8.05010872e+00, -6.22983701e+00, -4.88716958e+00,\n",
       "        -3.95079789e+00, -3.29378177e+00, -2.76790861e+00,\n",
       "        -2.24381049e+00, -1.64598051e+00, -9.73210419e-01,\n",
       "        -2.98917705e-01,  2.48726554e-01,  5.21490063e-01,\n",
       "         3.91201740e-01, -2.15555889e-01, -1.29757459e+00,\n",
       "        -2.77934746e+00, -4.53150656e+00, -6.40583931e+00,\n",
       "        -8.27540552e+00, -1.00688967e+01],\n",
       "       [-2.45477711e+00, -1.75047182e+00, -1.39977454e+00,\n",
       "        -1.33137672e+00, -1.41833821e+00, -1.51244639e+00,\n",
       "        -1.48433335e+00, -1.25849217e+00, -8.33714617e-01,\n",
       "        -2.83418171e-01,  2.64226087e-01,  6.60985865e-01,\n",
       "         7.78690079e-01,  5.43921255e-01, -4.21123730e-02,\n",
       "        -9.03903898e-01, -1.91208539e+00, -2.91844426e+00,\n",
       "        -3.79604032e+00, -4.47356505e+00],\n",
       "       [ 4.07821068e+00,  3.47953780e+00,  2.67203226e+00,\n",
       "         1.72700260e+00,  7.71389000e-01, -4.65959475e-02,\n",
       "        -5.97584313e-01, -8.06069190e-01, -6.70842345e-01,\n",
       "        -2.65321252e-01,  2.82323007e-01,  8.23858137e-01,\n",
       "         1.23111306e+00,  1.43067029e+00,  1.42373807e+00,\n",
       "         1.28582331e+00,  1.14629393e+00,  1.15336253e+00,\n",
       "         1.43396929e+00,  2.05942274e+00],\n",
       "       [ 9.78055389e+00,  8.04457155e+00,  6.22612428e+00,\n",
       "         4.39652061e+00,  2.68270071e+00,  1.23287718e+00,\n",
       "         1.76417950e-01, -4.11170076e-01, -5.28678664e-01,\n",
       "        -2.49525287e-01,  2.98118971e-01,  9.66021818e-01,\n",
       "         1.62601217e+00,  2.20467255e+00,  2.70321120e+00,\n",
       "         3.19713502e+00,  3.81581194e+00,  4.70745456e+00,\n",
       "         5.99900305e+00,  7.76176594e+00],\n",
       "       [ 1.31087845e+01,  1.07089999e+01,  8.30050622e+00,\n",
       "         5.95461193e+00,  3.79825722e+00,  1.97965468e+00,\n",
       "         6.28172239e-01, -1.80683194e-01, -4.45703387e-01,\n",
       "        -2.40305812e-01,  3.07338446e-01,  1.04899710e+00,\n",
       "         1.85649905e+00,  2.65642684e+00,  3.44998870e+00,\n",
       "         4.31269153e+00,  5.37390327e+00,  6.78183650e+00,\n",
       "         8.66343141e+00,  1.10899965e+01],\n",
       "       [ 1.31620416e+01,  1.07516351e+01,  8.33369973e+00,\n",
       "         5.97954395e+00,  3.81610795e+00,  1.99160434e+00,\n",
       "         6.35401048e-01, -1.76995026e-01, -4.44375646e-01,\n",
       "        -2.40158285e-01,  3.07485973e-01,  1.05032484e+00,\n",
       "         1.86018722e+00,  2.66365565e+00,  3.46193836e+00,\n",
       "         4.33054226e+00,  5.39883528e+00,  6.81503001e+00,\n",
       "         8.70606663e+00,  1.11432537e+01],\n",
       "       [ 9.92591007e+00,  8.16093703e+00,  6.31672024e+00,\n",
       "         4.46456824e+00,  2.73142120e+00,  1.26549173e+00,\n",
       "         1.96147736e-01, -4.01103859e-01, -5.25054826e-01,\n",
       "        -2.49122639e-01,  2.98521620e-01,  9.69645656e-01,\n",
       "         1.63607839e+00,  2.22440234e+00,  2.73582575e+00,\n",
       "         3.24585551e+00,  3.88385957e+00,  4.79805051e+00,\n",
       "         6.11536852e+00,  7.90712212e+00],\n",
       "       [ 4.27632196e+00,  3.63813658e+00,  2.79550882e+00,\n",
       "         1.81974722e+00,  8.37791949e-01, -2.14438616e-03,\n",
       "        -5.70693862e-01, -7.92349573e-01, -6.65903283e-01,\n",
       "        -2.64772467e-01,  2.82871791e-01,  8.28797199e-01,\n",
       "         1.24483267e+00,  1.45756074e+00,  1.46818963e+00,\n",
       "         1.35222626e+00,  1.23903855e+00,  1.27683909e+00,\n",
       "         1.59256807e+00,  2.25753402e+00],\n",
       "       [-2.25753402e+00, -1.59256807e+00, -1.27683909e+00,\n",
       "        -1.23903855e+00, -1.35222626e+00, -1.46818963e+00,\n",
       "        -1.45756074e+00, -1.24483267e+00, -8.28797199e-01,\n",
       "        -2.82871791e-01,  2.64772467e-01,  6.65903283e-01,\n",
       "         7.92349573e-01,  5.70693862e-01,  2.14438616e-03,\n",
       "        -8.37791949e-01, -1.81974722e+00, -2.79550882e+00,\n",
       "        -3.63813658e+00, -4.27632196e+00],\n",
       "       [-7.90712212e+00, -6.11536852e+00, -4.79805051e+00,\n",
       "        -3.88385957e+00, -3.24585551e+00, -2.73582575e+00,\n",
       "        -2.22440234e+00, -1.63607839e+00, -9.69645656e-01,\n",
       "        -2.98521620e-01,  2.49122639e-01,  5.25054826e-01,\n",
       "         4.01103859e-01, -1.96147736e-01, -1.26549173e+00,\n",
       "        -2.73142120e+00, -4.46456824e+00, -6.31672024e+00,\n",
       "        -8.16093703e+00, -9.92591007e+00],\n",
       "       [-1.11432537e+01, -8.70606663e+00, -6.81503001e+00,\n",
       "        -5.39883528e+00, -4.33054226e+00, -3.46193836e+00,\n",
       "        -2.66365565e+00, -1.86018722e+00, -1.05032484e+00,\n",
       "        -3.07485973e-01,  2.40158285e-01,  4.44375646e-01,\n",
       "         1.76995026e-01, -6.35401048e-01, -1.99160434e+00,\n",
       "        -3.81610795e+00, -5.97954395e+00, -8.33369973e+00,\n",
       "        -1.07516351e+01, -1.31620416e+01],\n",
       "       [-1.10899965e+01, -8.66343141e+00, -6.78183650e+00,\n",
       "        -5.37390327e+00, -4.31269153e+00, -3.44998870e+00,\n",
       "        -2.65642684e+00, -1.85649905e+00, -1.04899710e+00,\n",
       "        -3.07338446e-01,  2.40305812e-01,  4.45703387e-01,\n",
       "         1.80683194e-01, -6.28172239e-01, -1.97965468e+00,\n",
       "        -3.79825722e+00, -5.95461193e+00, -8.30050622e+00,\n",
       "        -1.07089999e+01, -1.31087845e+01],\n",
       "       [-7.76176594e+00, -5.99900305e+00, -4.70745456e+00,\n",
       "        -3.81581194e+00, -3.19713502e+00, -2.70321120e+00,\n",
       "        -2.20467255e+00, -1.62601217e+00, -9.66021818e-01,\n",
       "        -2.98118971e-01,  2.49525287e-01,  5.28678664e-01,\n",
       "         4.11170076e-01, -1.76417950e-01, -1.23287718e+00,\n",
       "        -2.68270071e+00, -4.39652061e+00, -6.22612428e+00,\n",
       "        -8.04457155e+00, -9.78055389e+00],\n",
       "       [-2.05942274e+00, -1.43396929e+00, -1.15336253e+00,\n",
       "        -1.14629393e+00, -1.28582331e+00, -1.42373807e+00,\n",
       "        -1.43067029e+00, -1.23111306e+00, -8.23858137e-01,\n",
       "        -2.82323007e-01,  2.65321252e-01,  6.70842345e-01,\n",
       "         8.06069190e-01,  5.97584313e-01,  4.65959475e-02,\n",
       "        -7.71389000e-01, -1.72700260e+00, -2.67203226e+00,\n",
       "        -3.47953780e+00, -4.07821068e+00],\n",
       "       [ 4.47356505e+00,  3.79604032e+00,  2.91844426e+00,\n",
       "         1.91208539e+00,  9.03903898e-01,  4.21123730e-02,\n",
       "        -5.43921255e-01, -7.78690079e-01, -6.60985865e-01,\n",
       "        -2.64226087e-01,  2.83418171e-01,  8.33714617e-01,\n",
       "         1.25849217e+00,  1.48433335e+00,  1.51244639e+00,\n",
       "         1.41833821e+00,  1.33137672e+00,  1.39977454e+00,\n",
       "         1.75047182e+00,  2.45477711e+00],\n",
       "       [ 1.00688967e+01,  8.27540552e+00,  6.40583931e+00,\n",
       "         4.53150656e+00,  2.77934746e+00,  1.29757459e+00,\n",
       "         2.15555889e-01, -3.91201740e-01, -5.21490063e-01,\n",
       "        -2.48726554e-01,  2.98917705e-01,  9.73210419e-01,\n",
       "         1.64598051e+00,  2.24381049e+00,  2.76790861e+00,\n",
       "         3.29378177e+00,  3.95079789e+00,  4.88716958e+00,\n",
       "         6.22983701e+00,  8.05010872e+00],\n",
       "       [ 1.32120692e+01,  1.07916849e+01,  8.36488034e+00,\n",
       "         6.00296405e+00,  3.83287619e+00,  2.00282936e+00,\n",
       "         6.42191491e-01, -1.73530515e-01, -4.43128422e-01,\n",
       "        -2.40019705e-01,  3.07624554e-01,  1.05157206e+00,\n",
       "         1.86365173e+00,  2.67044609e+00,  3.47316338e+00,\n",
       "         4.34731050e+00,  5.42225538e+00,  6.84621061e+00,\n",
       "         8.74611638e+00,  1.11932812e+01],\n",
       "       [ 1.40120566e+01,  1.14321181e+01,  8.86348749e+00,\n",
       "         6.37747342e+00,  4.10101604e+00,  2.18232794e+00,\n",
       "         7.50777049e-01, -1.18129720e-01, -4.23184136e-01,\n",
       "        -2.37803673e-01,  3.09840585e-01,  1.07151635e+00,\n",
       "         1.91905253e+00,  2.77903165e+00,  3.65266196e+00,\n",
       "         4.61545035e+00,  5.79676475e+00,  7.34481777e+00,\n",
       "         9.38654957e+00,  1.19932687e+01]])"
      ]
     },
     "execution_count": 7,
     "metadata": {},
     "output_type": "execute_result"
    }
   ],
   "source": [
    "dx"
   ]
  },
  {
   "cell_type": "code",
   "execution_count": 8,
   "metadata": {},
   "outputs": [
    {
     "data": {
      "text/plain": [
       "array([[-1.54158974, -0.14802453,  2.30039037,  3.80712391,  4.00688178,\n",
       "         2.88813215,  0.79622706, -1.66007495, -3.77338307, -4.92914554,\n",
       "        -4.77199198, -3.30192237, -0.87430712,  1.89630201,  4.30251424,\n",
       "         5.73557099,  5.85012026,  4.65769385,  2.52358608,  1.28717444],\n",
       "       [ 1.06512938,  2.17620093,  4.09528278,  5.17180762,  5.07893317,\n",
       "         3.8063415 ,  1.66303177, -0.8063173 , -2.9687771 , -4.27448553,\n",
       "        -4.40547962, -3.36175935, -1.46128772,  0.74607319,  2.62739474,\n",
       "         3.63799825,  3.46888453,  2.13037152, -0.05069849, -1.29276412],\n",
       "       [ 3.35273993,  4.19904607,  5.62425137,  6.30602402,  5.95597377,\n",
       "         4.56499655,  2.40573871, -0.04120092, -2.21735589, -3.63755378,\n",
       "        -4.021239  , -3.36841156, -1.95962704, -0.28005786,  1.11182954,\n",
       "         1.73543631,  1.31811611, -0.13102699, -2.32360274, -3.55359411],\n",
       "       [ 4.70567279,  5.33914007,  6.3743219 ,  6.76519544,  6.26182246,\n",
       "         4.85631277,  2.78495988,  0.46428278, -1.6217143 , -3.05254856,\n",
       "        -3.58507185, -3.21928416, -2.19833367, -0.94270314,  0.06360317,\n",
       "         0.40406628, -0.15760732, -1.61352743, -3.71375584, -4.87974641],\n",
       "       [ 4.7613505 ,  5.25404864,  6.04334647,  6.28746035,  5.7749041 ,\n",
       "         4.49900142,  2.65969293,  0.60941782, -1.24228189, -2.53961307,\n",
       "        -3.07683497, -2.85394757, -2.07669165, -1.10086031, -0.33599562,\n",
       "        -0.13453671, -0.69642425, -2.01498192, -3.87872353, -4.90864357],\n",
       "       [ 3.50832701,  3.93296164,  4.6217867 ,  4.86455218,  4.48822391,\n",
       "         3.48733946,  2.02548664,  0.39102474, -1.08096636, -2.09938321,\n",
       "        -2.49589246, -2.27049411, -1.59152151, -0.75007813, -0.08124381,\n",
       "         0.12662214, -0.2900681 , -1.32585207, -2.80769564, -3.62883952],\n",
       "       [ 1.28938583,  1.69961904,  2.39529553,  2.74403678,  2.61126068,\n",
       "         1.99271866,  1.01564568, -0.0956788 , -1.08063711, -1.71281544,\n",
       "        -1.86128786, -1.52605437, -0.83804091, -0.02366128,  0.65646685,\n",
       "         0.97806403,  0.81389529,  0.16820919, -0.82441215, -1.38311778],\n",
       "       [-1.2912421 , -0.8753166 , -0.13260127,  0.36230317,  0.51326665,\n",
       "         0.31725448, -0.13485124, -0.68285088, -1.14058898, -1.34634137,\n",
       "        -1.20658955, -0.72133351,  0.01590823,  0.84341152,  1.57502088,\n",
       "         2.05053671,  2.17907687,  1.96367607,  1.50046438,  1.22429071],\n",
       "       [-3.53142713, -3.12872284, -2.37679566, -1.773555  , -1.37667893,\n",
       "        -1.18798825, -1.15295369, -1.17545549, -1.14380036, -0.96095382,\n",
       "        -0.57080474,  0.02664687,  0.7752899 ,  1.57808986,  2.32335347,\n",
       "         2.91496094,  3.29838303,  3.47544053,  3.50381151,  3.4912563 ],\n",
       "       [-4.82118819, -4.48450643, -3.82897006, -3.22299586, -2.68580986,\n",
       "        -2.21801899, -1.80144682, -1.40405344, -0.98860776, -0.52276493,\n",
       "         0.01217874,  0.61622326,  1.27066491,  1.94315888,  2.59647406,\n",
       "         3.19857053,  3.73127187,  4.19518502,  4.60953599,  4.80779791],\n",
       "       [-4.80779791, -4.60953599, -4.19518502, -3.73127187, -3.19857053,\n",
       "        -2.59647406, -1.94315888, -1.27066491, -0.61622326, -0.01217874,\n",
       "         0.52276493,  0.98860776,  1.40405344,  1.80144682,  2.21801899,\n",
       "         2.68580986,  3.22299586,  3.82897006,  4.48450643,  4.82118819],\n",
       "       [-3.4912563 , -3.50381151, -3.47544053, -3.29838303, -2.91496094,\n",
       "        -2.32335347, -1.57808986, -0.7752899 , -0.02664687,  0.57080474,\n",
       "         0.96095382,  1.14380036,  1.17545549,  1.15295369,  1.18798825,\n",
       "         1.37667893,  1.773555  ,  2.37679566,  3.12872284,  3.53142713],\n",
       "       [-1.22429071, -1.50046438, -1.96367607, -2.17907687, -2.05053671,\n",
       "        -1.57502088, -0.84341152, -0.01590823,  0.72133351,  1.20658955,\n",
       "         1.34634137,  1.14058898,  0.68285088,  0.13485124, -0.31725448,\n",
       "        -0.51326665, -0.36230317,  0.13260127,  0.8753166 ,  1.2912421 ],\n",
       "       [ 1.38311778,  0.82441215, -0.16820919, -0.81389529, -0.97806403,\n",
       "        -0.65646685,  0.02366128,  0.83804091,  1.52605437,  1.86128786,\n",
       "         1.71281544,  1.08063711,  0.0956788 , -1.01564568, -1.99271866,\n",
       "        -2.61126068, -2.74403678, -2.39529553, -1.69961904, -1.28938583],\n",
       "       [ 3.62883952,  2.80769564,  1.32585207,  0.2900681 , -0.12662214,\n",
       "         0.08124381,  0.75007813,  1.59152151,  2.27049411,  2.49589246,\n",
       "         2.09938321,  1.08096636, -0.39102474, -2.02548664, -3.48733946,\n",
       "        -4.48822391, -4.86455218, -4.6217867 , -3.93296164, -3.50832701],\n",
       "       [ 4.90864357,  3.87872353,  2.01498192,  0.69642425,  0.13453671,\n",
       "         0.33599562,  1.10086031,  2.07669165,  2.85394757,  3.07683497,\n",
       "         2.53961307,  1.24228189, -0.60941782, -2.65969293, -4.49900142,\n",
       "        -5.7749041 , -6.28746035, -6.04334647, -5.25404864, -4.7613505 ],\n",
       "       [ 4.87974641,  3.71375584,  1.61352743,  0.15760732, -0.40406628,\n",
       "        -0.06360317,  0.94270314,  2.19833367,  3.21928416,  3.58507185,\n",
       "         3.05254856,  1.6217143 , -0.46428278, -2.78495988, -4.85631277,\n",
       "        -6.26182246, -6.76519544, -6.3743219 , -5.33914007, -4.70567279],\n",
       "       [ 3.55359411,  2.32360274,  0.13102699, -1.31811611, -1.73543631,\n",
       "        -1.11182954,  0.28005786,  1.95962704,  3.36841156,  4.021239  ,\n",
       "         3.63755378,  2.21735589,  0.04120092, -2.40573871, -4.56499655,\n",
       "        -5.95597377, -6.30602402, -5.62425137, -4.19904607, -3.35273993],\n",
       "       [ 1.29276412,  0.05069849, -2.13037152, -3.46888453, -3.63799825,\n",
       "        -2.62739474, -0.74607319,  1.46128772,  3.36175935,  4.40547962,\n",
       "         4.27448553,  2.9687771 ,  0.8063173 , -1.66303177, -3.8063415 ,\n",
       "        -5.07893317, -5.17180762, -4.09528278, -2.17620093, -1.06512938],\n",
       "       [-1.28717444, -2.52358608, -4.65769385, -5.85012026, -5.73557099,\n",
       "        -4.30251424, -1.89630201,  0.87430712,  3.30192237,  4.77199198,\n",
       "         4.92914554,  3.77338307,  1.66007495, -0.79622706, -2.88813215,\n",
       "        -4.00688178, -3.80712391, -2.30039037,  0.14802453,  1.54158974]])"
      ]
     },
     "execution_count": 8,
     "metadata": {},
     "output_type": "execute_result"
    }
   ],
   "source": [
    "dy"
   ]
  },
  {
   "cell_type": "code",
   "execution_count": 9,
   "metadata": {},
   "outputs": [
    {
     "data": {
      "text/plain": [
       "Text(0.5, 1.0, 'dy')"
      ]
     },
     "execution_count": 9,
     "metadata": {},
     "output_type": "execute_result"
    },
    {
     "data": {
      "image/png": "[encoded data removed]",
      "text/plain": [
       "<Figure size 1224x360 with 3 Axes>"
      ]
     },
     "metadata": {
      "needs_background": "light"
     },
     "output_type": "display_data"
    }
   ],
   "source": [
    "#Plot z,dx,dy yang dianggap sebagai sebuah gambar\n",
    "\n",
    "fig, ax = plt.subplots(ncols=3,figsize=(17,5))\n",
    "ax[0].imshow(c)\n",
    "ax[0].set_title('f(x,y)')\n",
    "ax[1].imshow(dx)\n",
    "ax[1].set_title('dx')\n",
    "ax[2].imshow(dy)\n",
    "ax[2].set_title('dy')"
   ]
  },
  {
   "cell_type": "code",
   "execution_count": 10,
   "metadata": {},
   "outputs": [
    {
     "data": {
      "text/latex": [
       "$\\displaystyle \\left[\\begin{matrix}x^{2} \\cos{\\left(y \\right)} + 2 y \\sin{\\left(x \\right)}\\end{matrix}\\right]$"
      ],
      "text/plain": [
       "Matrix([[x**2*cos(y) + 2*y*sin(x)]])"
      ]
     },
     "execution_count": 10,
     "metadata": {},
     "output_type": "execute_result"
    }
   ],
   "source": [
    "f_jacob = sy.Matrix([x**2*sy.cos(y) + 2*sy.sin(x)*y])\n",
    "f_jacob"
   ]
  },
  {
   "cell_type": "code",
   "execution_count": 11,
   "metadata": {},
   "outputs": [
    {
     "data": {
      "text/latex": [
       "$\\displaystyle \\left[\\begin{matrix}2 x \\cos{\\left(y \\right)} + 2 y \\cos{\\left(x \\right)} & - x^{2} \\sin{\\left(y \\right)} + 2 \\sin{\\left(x \\right)}\\end{matrix}\\right]$"
      ],
      "text/plain": [
       "Matrix([[2*x*cos(y) + 2*y*cos(x), -x**2*sin(y) + 2*sin(x)]])"
      ]
     },
     "execution_count": 11,
     "metadata": {},
     "output_type": "execute_result"
    }
   ],
   "source": [
    "f_jacob.jacobian(sy.Matrix([x, y]))"
   ]
  },
  {
   "cell_type": "code",
   "execution_count": 12,
   "metadata": {},
   "outputs": [
    {
     "data": {
      "text/latex": [
       "$\\displaystyle \\left[\\begin{matrix}- 2 y \\sin{\\left(x \\right)} + 2 \\cos{\\left(y \\right)} & - 2 x \\sin{\\left(y \\right)} + 2 \\cos{\\left(x \\right)}\\\\- 2 x \\sin{\\left(y \\right)} + 2 \\cos{\\left(x \\right)} & - x^{2} \\cos{\\left(y \\right)}\\end{matrix}\\right]$"
      ],
      "text/plain": [
       "Matrix([\n",
       "[-2*y*sin(x) + 2*cos(y), -2*x*sin(y) + 2*cos(x)],\n",
       "[-2*x*sin(y) + 2*cos(x),           -x**2*cos(y)]])"
      ]
     },
     "execution_count": 12,
     "metadata": {},
     "output_type": "execute_result"
    }
   ],
   "source": [
    "f_jacob.jacobian(sy.Matrix([x, y])).jacobian(sy.Matrix([x, y]))"
   ]
  }
 ],
 "metadata": {
  "interpreter": {
   "hash": "916dbcbb3f70747c44a77c7bcd40155683ae19c65e1c03b4aa3499c5328201f1"
  },
  "kernelspec": {
   "display_name": "Python 3.8.10 64-bit",
   "language": "python",
   "name": "python3"
  },
  "language_info": {
   "codemirror_mode": {
    "name": "ipython",
    "version": 3
   },
   "file_extension": ".py",
   "mimetype": "text/x-python",
   "name": "python",
   "nbconvert_exporter": "python",
   "pygments_lexer": "ipython3",
   "version": "3.8.10"
  },
  "orig_nbformat": 4
 },
 "nbformat": 4,
 "nbformat_minor": 2
}

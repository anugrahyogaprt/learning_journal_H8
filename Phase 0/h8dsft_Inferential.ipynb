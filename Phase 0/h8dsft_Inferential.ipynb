{
 "cells": [
  {
   "cell_type": "code",
   "execution_count": 1,
   "metadata": {},
   "outputs": [],
   "source": [
    "import pandas as pd\n",
    "import numpy as np\n",
    "from scipy import stats"
   ]
  },
  {
   "cell_type": "code",
   "execution_count": 2,
   "metadata": {},
   "outputs": [
    {
     "data": {
      "text/html": [
       "<div>\n",
       "<style scoped>\n",
       "    .dataframe tbody tr th:only-of-type {\n",
       "        vertical-align: middle;\n",
       "    }\n",
       "\n",
       "    .dataframe tbody tr th {\n",
       "        vertical-align: top;\n",
       "    }\n",
       "\n",
       "    .dataframe thead th {\n",
       "        text-align: right;\n",
       "    }\n",
       "</style>\n",
       "<table border=\"1\" class=\"dataframe\">\n",
       "  <thead>\n",
       "    <tr style=\"text-align: right;\">\n",
       "      <th></th>\n",
       "      <th>Date</th>\n",
       "      <th>Location ISO Code</th>\n",
       "      <th>Location</th>\n",
       "      <th>New Cases</th>\n",
       "      <th>New Deaths</th>\n",
       "      <th>New Recovered</th>\n",
       "      <th>New Active Cases</th>\n",
       "      <th>Total Cases</th>\n",
       "      <th>Total Deaths</th>\n",
       "      <th>Total Recovered</th>\n",
       "      <th>...</th>\n",
       "      <th>Latitude</th>\n",
       "      <th>New Cases per Million</th>\n",
       "      <th>Total Cases per Million</th>\n",
       "      <th>New Deaths per Million</th>\n",
       "      <th>Total Deaths per Million</th>\n",
       "      <th>Total Deaths per 100rb</th>\n",
       "      <th>Case Fatality Rate</th>\n",
       "      <th>Case Recovered Rate</th>\n",
       "      <th>Growth Factor of New Cases</th>\n",
       "      <th>Growth Factor of New Deaths</th>\n",
       "    </tr>\n",
       "  </thead>\n",
       "  <tbody>\n",
       "    <tr>\n",
       "      <th>0</th>\n",
       "      <td>3/1/2020</td>\n",
       "      <td>ID-JK</td>\n",
       "      <td>DKI Jakarta</td>\n",
       "      <td>2</td>\n",
       "      <td>0</td>\n",
       "      <td>0</td>\n",
       "      <td>2</td>\n",
       "      <td>39</td>\n",
       "      <td>20</td>\n",
       "      <td>41</td>\n",
       "      <td>...</td>\n",
       "      <td>-6.204699</td>\n",
       "      <td>0.18</td>\n",
       "      <td>3.60</td>\n",
       "      <td>0.00</td>\n",
       "      <td>1.84</td>\n",
       "      <td>0.18</td>\n",
       "      <td>51.28%</td>\n",
       "      <td>105.13%</td>\n",
       "      <td>NaN</td>\n",
       "      <td>NaN</td>\n",
       "    </tr>\n",
       "    <tr>\n",
       "      <th>1</th>\n",
       "      <td>3/2/2020</td>\n",
       "      <td>ID-JK</td>\n",
       "      <td>DKI Jakarta</td>\n",
       "      <td>2</td>\n",
       "      <td>0</td>\n",
       "      <td>0</td>\n",
       "      <td>2</td>\n",
       "      <td>41</td>\n",
       "      <td>20</td>\n",
       "      <td>41</td>\n",
       "      <td>...</td>\n",
       "      <td>-6.204699</td>\n",
       "      <td>0.18</td>\n",
       "      <td>3.78</td>\n",
       "      <td>0.00</td>\n",
       "      <td>1.84</td>\n",
       "      <td>0.18</td>\n",
       "      <td>48.78%</td>\n",
       "      <td>100.00%</td>\n",
       "      <td>1.00</td>\n",
       "      <td>1.0</td>\n",
       "    </tr>\n",
       "    <tr>\n",
       "      <th>2</th>\n",
       "      <td>3/2/2020</td>\n",
       "      <td>IDN</td>\n",
       "      <td>Indonesia</td>\n",
       "      <td>2</td>\n",
       "      <td>0</td>\n",
       "      <td>0</td>\n",
       "      <td>2</td>\n",
       "      <td>2</td>\n",
       "      <td>0</td>\n",
       "      <td>0</td>\n",
       "      <td>...</td>\n",
       "      <td>-0.789275</td>\n",
       "      <td>0.01</td>\n",
       "      <td>0.01</td>\n",
       "      <td>0.00</td>\n",
       "      <td>0.00</td>\n",
       "      <td>0.00</td>\n",
       "      <td>0.00%</td>\n",
       "      <td>0.00%</td>\n",
       "      <td>NaN</td>\n",
       "      <td>NaN</td>\n",
       "    </tr>\n",
       "    <tr>\n",
       "      <th>3</th>\n",
       "      <td>3/2/2020</td>\n",
       "      <td>ID-RI</td>\n",
       "      <td>Riau</td>\n",
       "      <td>1</td>\n",
       "      <td>0</td>\n",
       "      <td>0</td>\n",
       "      <td>1</td>\n",
       "      <td>2</td>\n",
       "      <td>0</td>\n",
       "      <td>3</td>\n",
       "      <td>...</td>\n",
       "      <td>0.511648</td>\n",
       "      <td>0.16</td>\n",
       "      <td>0.33</td>\n",
       "      <td>0.00</td>\n",
       "      <td>0.00</td>\n",
       "      <td>0.00</td>\n",
       "      <td>0.00%</td>\n",
       "      <td>150.00%</td>\n",
       "      <td>NaN</td>\n",
       "      <td>NaN</td>\n",
       "    </tr>\n",
       "    <tr>\n",
       "      <th>4</th>\n",
       "      <td>3/3/2020</td>\n",
       "      <td>ID-JK</td>\n",
       "      <td>DKI Jakarta</td>\n",
       "      <td>2</td>\n",
       "      <td>0</td>\n",
       "      <td>0</td>\n",
       "      <td>2</td>\n",
       "      <td>43</td>\n",
       "      <td>20</td>\n",
       "      <td>41</td>\n",
       "      <td>...</td>\n",
       "      <td>-6.204699</td>\n",
       "      <td>0.18</td>\n",
       "      <td>3.96</td>\n",
       "      <td>0.00</td>\n",
       "      <td>1.84</td>\n",
       "      <td>0.18</td>\n",
       "      <td>46.51%</td>\n",
       "      <td>95.35%</td>\n",
       "      <td>1.00</td>\n",
       "      <td>1.0</td>\n",
       "    </tr>\n",
       "    <tr>\n",
       "      <th>...</th>\n",
       "      <td>...</td>\n",
       "      <td>...</td>\n",
       "      <td>...</td>\n",
       "      <td>...</td>\n",
       "      <td>...</td>\n",
       "      <td>...</td>\n",
       "      <td>...</td>\n",
       "      <td>...</td>\n",
       "      <td>...</td>\n",
       "      <td>...</td>\n",
       "      <td>...</td>\n",
       "      <td>...</td>\n",
       "      <td>...</td>\n",
       "      <td>...</td>\n",
       "      <td>...</td>\n",
       "      <td>...</td>\n",
       "      <td>...</td>\n",
       "      <td>...</td>\n",
       "      <td>...</td>\n",
       "      <td>...</td>\n",
       "      <td>...</td>\n",
       "    </tr>\n",
       "    <tr>\n",
       "      <th>21754</th>\n",
       "      <td>12/2/2021</td>\n",
       "      <td>ID-SA</td>\n",
       "      <td>Sulawesi Utara</td>\n",
       "      <td>2</td>\n",
       "      <td>0</td>\n",
       "      <td>0</td>\n",
       "      <td>2</td>\n",
       "      <td>34715</td>\n",
       "      <td>1056</td>\n",
       "      <td>33566</td>\n",
       "      <td>...</td>\n",
       "      <td>1.259638</td>\n",
       "      <td>0.76</td>\n",
       "      <td>13140.24</td>\n",
       "      <td>0.00</td>\n",
       "      <td>399.71</td>\n",
       "      <td>39.97</td>\n",
       "      <td>3.04%</td>\n",
       "      <td>96.69%</td>\n",
       "      <td>NaN</td>\n",
       "      <td>1.0</td>\n",
       "    </tr>\n",
       "    <tr>\n",
       "      <th>21755</th>\n",
       "      <td>12/2/2021</td>\n",
       "      <td>ID-SB</td>\n",
       "      <td>Sumatera Barat</td>\n",
       "      <td>4</td>\n",
       "      <td>0</td>\n",
       "      <td>0</td>\n",
       "      <td>4</td>\n",
       "      <td>89849</td>\n",
       "      <td>2152</td>\n",
       "      <td>87605</td>\n",
       "      <td>...</td>\n",
       "      <td>-0.850253</td>\n",
       "      <td>0.72</td>\n",
       "      <td>16279.22</td>\n",
       "      <td>0.00</td>\n",
       "      <td>389.91</td>\n",
       "      <td>38.99</td>\n",
       "      <td>2.40%</td>\n",
       "      <td>97.50%</td>\n",
       "      <td>4.00</td>\n",
       "      <td>1.0</td>\n",
       "    </tr>\n",
       "    <tr>\n",
       "      <th>21756</th>\n",
       "      <td>12/2/2021</td>\n",
       "      <td>ID-SS</td>\n",
       "      <td>Sumatera Selatan</td>\n",
       "      <td>4</td>\n",
       "      <td>0</td>\n",
       "      <td>0</td>\n",
       "      <td>4</td>\n",
       "      <td>59937</td>\n",
       "      <td>3071</td>\n",
       "      <td>56830</td>\n",
       "      <td>...</td>\n",
       "      <td>-3.216212</td>\n",
       "      <td>0.49</td>\n",
       "      <td>7293.78</td>\n",
       "      <td>0.00</td>\n",
       "      <td>373.71</td>\n",
       "      <td>37.37</td>\n",
       "      <td>5.12%</td>\n",
       "      <td>94.82%</td>\n",
       "      <td>4.00</td>\n",
       "      <td>1.0</td>\n",
       "    </tr>\n",
       "    <tr>\n",
       "      <th>21757</th>\n",
       "      <td>12/2/2021</td>\n",
       "      <td>ID-SU</td>\n",
       "      <td>Sumatera Utara</td>\n",
       "      <td>4</td>\n",
       "      <td>0</td>\n",
       "      <td>1</td>\n",
       "      <td>3</td>\n",
       "      <td>106045</td>\n",
       "      <td>2889</td>\n",
       "      <td>103061</td>\n",
       "      <td>...</td>\n",
       "      <td>2.191894</td>\n",
       "      <td>0.27</td>\n",
       "      <td>7129.13</td>\n",
       "      <td>0.00</td>\n",
       "      <td>194.22</td>\n",
       "      <td>19.42</td>\n",
       "      <td>2.72%</td>\n",
       "      <td>97.19%</td>\n",
       "      <td>1.00</td>\n",
       "      <td>1.0</td>\n",
       "    </tr>\n",
       "    <tr>\n",
       "      <th>21758</th>\n",
       "      <td>12/3/2021</td>\n",
       "      <td>IDN</td>\n",
       "      <td>Indonesia</td>\n",
       "      <td>245</td>\n",
       "      <td>8</td>\n",
       "      <td>328</td>\n",
       "      <td>-91</td>\n",
       "      <td>4257243</td>\n",
       "      <td>143858</td>\n",
       "      <td>4105680</td>\n",
       "      <td>...</td>\n",
       "      <td>-0.789275</td>\n",
       "      <td>0.92</td>\n",
       "      <td>16053.83</td>\n",
       "      <td>0.03</td>\n",
       "      <td>542.48</td>\n",
       "      <td>54.25</td>\n",
       "      <td>3.38%</td>\n",
       "      <td>96.44%</td>\n",
       "      <td>0.79</td>\n",
       "      <td>0.8</td>\n",
       "    </tr>\n",
       "  </tbody>\n",
       "</table>\n",
       "<p>21759 rows × 38 columns</p>\n",
       "</div>"
      ],
      "text/plain": [
       "            Date Location ISO Code          Location  New Cases  New Deaths  \\\n",
       "0       3/1/2020             ID-JK       DKI Jakarta          2           0   \n",
       "1       3/2/2020             ID-JK       DKI Jakarta          2           0   \n",
       "2       3/2/2020               IDN         Indonesia          2           0   \n",
       "3       3/2/2020             ID-RI              Riau          1           0   \n",
       "4       3/3/2020             ID-JK       DKI Jakarta          2           0   \n",
       "...          ...               ...               ...        ...         ...   \n",
       "21754  12/2/2021             ID-SA    Sulawesi Utara          2           0   \n",
       "21755  12/2/2021             ID-SB    Sumatera Barat          4           0   \n",
       "21756  12/2/2021             ID-SS  Sumatera Selatan          4           0   \n",
       "21757  12/2/2021             ID-SU    Sumatera Utara          4           0   \n",
       "21758  12/3/2021               IDN         Indonesia        245           8   \n",
       "\n",
       "       New Recovered  New Active Cases  Total Cases  Total Deaths  \\\n",
       "0                  0                 2           39            20   \n",
       "1                  0                 2           41            20   \n",
       "2                  0                 2            2             0   \n",
       "3                  0                 1            2             0   \n",
       "4                  0                 2           43            20   \n",
       "...              ...               ...          ...           ...   \n",
       "21754              0                 2        34715          1056   \n",
       "21755              0                 4        89849          2152   \n",
       "21756              0                 4        59937          3071   \n",
       "21757              1                 3       106045          2889   \n",
       "21758            328               -91      4257243        143858   \n",
       "\n",
       "       Total Recovered  ...  Latitude New Cases per Million  \\\n",
       "0                   41  ... -6.204699                  0.18   \n",
       "1                   41  ... -6.204699                  0.18   \n",
       "2                    0  ... -0.789275                  0.01   \n",
       "3                    3  ...  0.511648                  0.16   \n",
       "4                   41  ... -6.204699                  0.18   \n",
       "...                ...  ...       ...                   ...   \n",
       "21754            33566  ...  1.259638                  0.76   \n",
       "21755            87605  ... -0.850253                  0.72   \n",
       "21756            56830  ... -3.216212                  0.49   \n",
       "21757           103061  ...  2.191894                  0.27   \n",
       "21758          4105680  ... -0.789275                  0.92   \n",
       "\n",
       "       Total Cases per Million New Deaths per Million  \\\n",
       "0                         3.60                   0.00   \n",
       "1                         3.78                   0.00   \n",
       "2                         0.01                   0.00   \n",
       "3                         0.33                   0.00   \n",
       "4                         3.96                   0.00   \n",
       "...                        ...                    ...   \n",
       "21754                 13140.24                   0.00   \n",
       "21755                 16279.22                   0.00   \n",
       "21756                  7293.78                   0.00   \n",
       "21757                  7129.13                   0.00   \n",
       "21758                 16053.83                   0.03   \n",
       "\n",
       "      Total Deaths per Million Total Deaths per 100rb Case Fatality Rate  \\\n",
       "0                         1.84                   0.18             51.28%   \n",
       "1                         1.84                   0.18             48.78%   \n",
       "2                         0.00                   0.00              0.00%   \n",
       "3                         0.00                   0.00              0.00%   \n",
       "4                         1.84                   0.18             46.51%   \n",
       "...                        ...                    ...                ...   \n",
       "21754                   399.71                  39.97              3.04%   \n",
       "21755                   389.91                  38.99              2.40%   \n",
       "21756                   373.71                  37.37              5.12%   \n",
       "21757                   194.22                  19.42              2.72%   \n",
       "21758                   542.48                  54.25              3.38%   \n",
       "\n",
       "      Case Recovered Rate Growth Factor of New Cases  \\\n",
       "0                 105.13%                        NaN   \n",
       "1                 100.00%                       1.00   \n",
       "2                   0.00%                        NaN   \n",
       "3                 150.00%                        NaN   \n",
       "4                  95.35%                       1.00   \n",
       "...                   ...                        ...   \n",
       "21754              96.69%                        NaN   \n",
       "21755              97.50%                       4.00   \n",
       "21756              94.82%                       4.00   \n",
       "21757              97.19%                       1.00   \n",
       "21758              96.44%                       0.79   \n",
       "\n",
       "       Growth Factor of New Deaths  \n",
       "0                              NaN  \n",
       "1                              1.0  \n",
       "2                              NaN  \n",
       "3                              NaN  \n",
       "4                              1.0  \n",
       "...                            ...  \n",
       "21754                          1.0  \n",
       "21755                          1.0  \n",
       "21756                          1.0  \n",
       "21757                          1.0  \n",
       "21758                          0.8  \n",
       "\n",
       "[21759 rows x 38 columns]"
      ]
     },
     "execution_count": 2,
     "metadata": {},
     "output_type": "execute_result"
    }
   ],
   "source": [
    "df = pd.read_csv('covid_19_indonesia_time_series_all.csv')\n",
    "df"
   ]
  },
  {
   "cell_type": "code",
   "execution_count": 3,
   "metadata": {},
   "outputs": [
    {
     "data": {
      "text/plain": [
       "(21759, 38)"
      ]
     },
     "execution_count": 3,
     "metadata": {},
     "output_type": "execute_result"
    }
   ],
   "source": [
    "df.shape"
   ]
  },
  {
   "cell_type": "code",
   "execution_count": 4,
   "metadata": {},
   "outputs": [
    {
     "name": "stdout",
     "output_type": "stream",
     "text": [
      "<class 'pandas.core.frame.DataFrame'>\n",
      "RangeIndex: 21759 entries, 0 to 21758\n",
      "Data columns (total 38 columns):\n",
      " #   Column                       Non-Null Count  Dtype  \n",
      "---  ------                       --------------  -----  \n",
      " 0   Date                         21759 non-null  object \n",
      " 1   Location ISO Code            21759 non-null  object \n",
      " 2   Location                     21759 non-null  object \n",
      " 3   New Cases                    21759 non-null  int64  \n",
      " 4   New Deaths                   21759 non-null  int64  \n",
      " 5   New Recovered                21759 non-null  int64  \n",
      " 6   New Active Cases             21759 non-null  int64  \n",
      " 7   Total Cases                  21759 non-null  int64  \n",
      " 8   Total Deaths                 21759 non-null  int64  \n",
      " 9   Total Recovered              21759 non-null  int64  \n",
      " 10  Total Active Cases           21759 non-null  int64  \n",
      " 11  Location Level               21759 non-null  object \n",
      " 12  City or Regency              0 non-null      float64\n",
      " 13  Province                     21117 non-null  object \n",
      " 14  Country                      21759 non-null  object \n",
      " 15  Continent                    21759 non-null  object \n",
      " 16  Island                       21117 non-null  object \n",
      " 17  Time Zone                    21117 non-null  object \n",
      " 18  Special Status               3123 non-null   object \n",
      " 19  Total Regencies              21759 non-null  int64  \n",
      " 20  Total Cities                 21145 non-null  float64\n",
      " 21  Total Districts              21759 non-null  int64  \n",
      " 22  Total Urban Villages         21142 non-null  float64\n",
      " 23  Total Rural Villages         21117 non-null  float64\n",
      " 24  Area (km2)                   21759 non-null  int64  \n",
      " 25  Population                   21759 non-null  int64  \n",
      " 26  Population Density           21759 non-null  float64\n",
      " 27  Longitude                    21759 non-null  float64\n",
      " 28  Latitude                     21759 non-null  float64\n",
      " 29  New Cases per Million        21759 non-null  float64\n",
      " 30  Total Cases per Million      21759 non-null  float64\n",
      " 31  New Deaths per Million       21759 non-null  float64\n",
      " 32  Total Deaths per Million     21759 non-null  float64\n",
      " 33  Total Deaths per 100rb       21759 non-null  float64\n",
      " 34  Case Fatality Rate           21759 non-null  object \n",
      " 35  Case Recovered Rate          21759 non-null  object \n",
      " 36  Growth Factor of New Cases   20572 non-null  float64\n",
      " 37  Growth Factor of New Deaths  19292 non-null  float64\n",
      "dtypes: float64(14), int64(12), object(12)\n",
      "memory usage: 6.3+ MB\n"
     ]
    }
   ],
   "source": [
    "df.info()"
   ]
  },
  {
   "cell_type": "code",
   "execution_count": 5,
   "metadata": {},
   "outputs": [
    {
     "data": {
      "text/plain": [
       "Index(['Date', 'Location ISO Code', 'Location', 'New Cases', 'New Deaths',\n",
       "       'New Recovered', 'New Active Cases', 'Total Cases', 'Total Deaths',\n",
       "       'Total Recovered', 'Total Active Cases', 'Location Level',\n",
       "       'City or Regency', 'Province', 'Country', 'Continent', 'Island',\n",
       "       'Time Zone', 'Special Status', 'Total Regencies', 'Total Cities',\n",
       "       'Total Districts', 'Total Urban Villages', 'Total Rural Villages',\n",
       "       'Area (km2)', 'Population', 'Population Density', 'Longitude',\n",
       "       'Latitude', 'New Cases per Million', 'Total Cases per Million',\n",
       "       'New Deaths per Million', 'Total Deaths per Million',\n",
       "       'Total Deaths per 100rb', 'Case Fatality Rate', 'Case Recovered Rate',\n",
       "       'Growth Factor of New Cases', 'Growth Factor of New Deaths'],\n",
       "      dtype='object')"
      ]
     },
     "execution_count": 5,
     "metadata": {},
     "output_type": "execute_result"
    }
   ],
   "source": [
    "df.columns"
   ]
  },
  {
   "cell_type": "code",
   "execution_count": 6,
   "metadata": {},
   "outputs": [],
   "source": [
    "df['Date'] = pd.to_datetime(df['Date'])"
   ]
  },
  {
   "cell_type": "code",
   "execution_count": 7,
   "metadata": {},
   "outputs": [],
   "source": [
    "df.drop(columns='City or Regency', axis=1, inplace=True)"
   ]
  },
  {
   "cell_type": "code",
   "execution_count": 8,
   "metadata": {},
   "outputs": [
    {
     "data": {
      "text/plain": [
       "(21759, 37)"
      ]
     },
     "execution_count": 8,
     "metadata": {},
     "output_type": "execute_result"
    }
   ],
   "source": [
    "df.shape"
   ]
  },
  {
   "cell_type": "code",
   "execution_count": 9,
   "metadata": {},
   "outputs": [
    {
     "data": {
      "text/plain": [
       "(Timestamp('2021-12-03 00:00:00'), Timestamp('2020-03-01 00:00:00'))"
      ]
     },
     "execution_count": 9,
     "metadata": {},
     "output_type": "execute_result"
    }
   ],
   "source": [
    "df['Date'].max(), df['Date'].min()"
   ]
  },
  {
   "cell_type": "code",
   "execution_count": 10,
   "metadata": {},
   "outputs": [
    {
     "data": {
      "text/plain": [
       "Province\n",
       "Aceh                           30122\n",
       "Bali                          100334\n",
       "Banten                        119635\n",
       "Bengkulu                       21280\n",
       "DKI Jakarta                   727086\n",
       "Daerah Istimewa Yogyakarta    150787\n",
       "Gorontalo                       8724\n",
       "Jambi                          27824\n",
       "Jawa Barat                    651027\n",
       "Jawa Tengah                   428707\n",
       "Jawa Timur                    337497\n",
       "Kalimantan Barat               39123\n",
       "Kalimantan Selatan             56717\n",
       "Kalimantan Tengah              39685\n",
       "Kalimantan Timur              138615\n",
       "Kalimantan Utara               34419\n",
       "Kepulauan Bangka Belitung      51264\n",
       "Kepulauan Riau                 48424\n",
       "Lampung                        45859\n",
       "Maluku                          9966\n",
       "Maluku Utara                    9728\n",
       "Nusa Tenggara Barat            23096\n",
       "Nusa Tenggara Timur            62807\n",
       "Papua                          24323\n",
       "Papua Barat                    18091\n",
       "Riau                          108738\n",
       "Sulawesi Barat                 10882\n",
       "Sulawesi Selatan               89267\n",
       "Sulawesi Tengah                45277\n",
       "Sulawesi Tenggara              13654\n",
       "Sulawesi Utara                 27787\n",
       "Sumatera Barat                 69803\n",
       "Sumatera Selatan               50469\n",
       "Sumatera Utara                 90452\n",
       "Name: New Cases, dtype: int64"
      ]
     },
     "execution_count": 10,
     "metadata": {},
     "output_type": "execute_result"
    }
   ],
   "source": [
    "df[\n",
    "    (df['Date'] >= '2020-12-01') &\n",
    "    (df['Date'] < '2021-12-01')\n",
    "].groupby('Province')['New Cases'].sum()\n"
   ]
  },
  {
   "cell_type": "code",
   "execution_count": 11,
   "metadata": {},
   "outputs": [
    {
     "data": {
      "text/plain": [
       "Province\n",
       "Aceh                          365\n",
       "Bali                          365\n",
       "Banten                        365\n",
       "Bengkulu                      365\n",
       "DKI Jakarta                   365\n",
       "Daerah Istimewa Yogyakarta    365\n",
       "Gorontalo                     356\n",
       "Jambi                         365\n",
       "Jawa Barat                    365\n",
       "Jawa Tengah                   365\n",
       "Jawa Timur                    365\n",
       "Kalimantan Barat              365\n",
       "Kalimantan Selatan            365\n",
       "Kalimantan Tengah             365\n",
       "Kalimantan Timur              365\n",
       "Kalimantan Utara              365\n",
       "Kepulauan Bangka Belitung     365\n",
       "Kepulauan Riau                365\n",
       "Lampung                       365\n",
       "Maluku                        365\n",
       "Maluku Utara                  363\n",
       "Nusa Tenggara Barat           365\n",
       "Nusa Tenggara Timur           365\n",
       "Papua                         365\n",
       "Papua Barat                   365\n",
       "Riau                          365\n",
       "Sulawesi Barat                365\n",
       "Sulawesi Selatan              365\n",
       "Sulawesi Tengah               365\n",
       "Sulawesi Tenggara             365\n",
       "Sulawesi Utara                365\n",
       "Sumatera Barat                365\n",
       "Sumatera Selatan              365\n",
       "Sumatera Utara                365\n",
       "Name: New Cases, dtype: int64"
      ]
     },
     "execution_count": 11,
     "metadata": {},
     "output_type": "execute_result"
    }
   ],
   "source": [
    "df[\n",
    "    (df['Date'] >= '2020-12-01') &\n",
    "    (df['Date'] < '2021-12-01')\n",
    "].groupby('Province')['New Cases'].count()\n"
   ]
  },
  {
   "cell_type": "code",
   "execution_count": 12,
   "metadata": {},
   "outputs": [
    {
     "data": {
      "text/plain": [
       "Province\n",
       "Aceh                            82.526027\n",
       "Bali                           274.887671\n",
       "Banten                         327.767123\n",
       "Bengkulu                        58.301370\n",
       "DKI Jakarta                   1992.016438\n",
       "Daerah Istimewa Yogyakarta     413.115068\n",
       "Gorontalo                       24.505618\n",
       "Jambi                           76.230137\n",
       "Jawa Barat                    1783.635616\n",
       "Jawa Tengah                   1174.539726\n",
       "Jawa Timur                     924.649315\n",
       "Kalimantan Barat               107.186301\n",
       "Kalimantan Selatan             155.389041\n",
       "Kalimantan Tengah              108.726027\n",
       "Kalimantan Timur               379.767123\n",
       "Kalimantan Utara                94.298630\n",
       "Kepulauan Bangka Belitung      140.449315\n",
       "Kepulauan Riau                 132.668493\n",
       "Lampung                        125.641096\n",
       "Maluku                          27.304110\n",
       "Maluku Utara                    26.798898\n",
       "Nusa Tenggara Barat             63.276712\n",
       "Nusa Tenggara Timur            172.073973\n",
       "Papua                           66.638356\n",
       "Papua Barat                     49.564384\n",
       "Riau                           297.912329\n",
       "Sulawesi Barat                  29.813699\n",
       "Sulawesi Selatan               244.567123\n",
       "Sulawesi Tengah                124.046575\n",
       "Sulawesi Tenggara               37.408219\n",
       "Sulawesi Utara                  76.128767\n",
       "Sumatera Barat                 191.241096\n",
       "Sumatera Selatan               138.271233\n",
       "Sumatera Utara                 247.813699\n",
       "Name: New Cases, dtype: float64"
      ]
     },
     "execution_count": 12,
     "metadata": {},
     "output_type": "execute_result"
    }
   ],
   "source": [
    "df[\n",
    "    (df['Date'] >= '2020-12-01') &\n",
    "    (df['Date'] < '2021-12-01') \n",
    "].groupby('Province')['New Cases'].mean()\n"
   ]
  },
  {
   "cell_type": "code",
   "execution_count": 28,
   "metadata": {},
   "outputs": [],
   "source": [
    "df_dki = df[\n",
    "    (df['Province'] == 'DKI Jakarta') & \n",
    "    (df['Date'] >= '2020-12-01') &\n",
    "    (df['Date'] < '2021-12-01') \n",
    "]['New Cases']\n",
    "\n",
    "df_jabar = df[\n",
    "    (df['Province'] == 'Jawa Barat') & \n",
    "    (df['Date'] >= '2020-12-01') &\n",
    "    (df['Date'] < '2021-12-01') \n",
    "]['New Cases']"
   ]
  },
  {
   "cell_type": "markdown",
   "metadata": {},
   "source": [
    "Cek apakah pada rentang waktu 01-12-2020 hingga 01-12-2021, rata-rata **New Cases** harian di Jakarta = rata-rata **New Cases** harian di Jawa Barat. \\\n",
    "Ho : μ_jakarta = μ_jabar \\\n",
    "H1 : μ_jakarta != μ_jabar"
   ]
  },
  {
   "cell_type": "code",
   "execution_count": 29,
   "metadata": {},
   "outputs": [
    {
     "data": {
      "text/plain": [
       "8937     1058\n",
       "8972     1166\n",
       "9007     1153\n",
       "9042     1032\n",
       "9077     1360\n",
       "         ... \n",
       "21533      70\n",
       "21567      54\n",
       "21601      51\n",
       "21635      41\n",
       "21668      44\n",
       "Name: New Cases, Length: 365, dtype: int64"
      ]
     },
     "execution_count": 29,
     "metadata": {},
     "output_type": "execute_result"
    }
   ],
   "source": [
    "df_dki"
   ]
  },
  {
   "cell_type": "code",
   "execution_count": 31,
   "metadata": {},
   "outputs": [
    {
     "name": "stdout",
     "output_type": "stream",
     "text": [
      "P-value: 0.23948418467735372\n",
      "t-statistics: 1.177240695846592\n"
     ]
    }
   ],
   "source": [
    "t_stat, p_val = stats.ttest_ind(df_dki, df_jabar)\n",
    "print('P-value:',p_val) #the p-value isn't divided by 2 since the output is two-sided p-value\n",
    "print('t-statistics:',t_stat)"
   ]
  },
  {
   "cell_type": "markdown",
   "metadata": {},
   "source": [
    "hasil dari p value adalah 0.23 yang berarti lebih besar dari pada significant level, Sehingga tidak terdapat perbedaan significant yang berarti antara rata-rata jakarta dan rata-rata jawa barat. Hal ini menunjukkan bahwa Ho gagal ditolak dan dapat diterima."
   ]
  },
  {
   "cell_type": "code",
   "execution_count": 52,
   "metadata": {},
   "outputs": [
    {
     "name": "stderr",
     "output_type": "stream",
     "text": [
      "/home/anugrahyogaprt/.local/lib/python3.8/site-packages/seaborn/distributions.py:2619: FutureWarning: `distplot` is a deprecated function and will be removed in a future version. Please adapt your code to use either `displot` (a figure-level function with similar flexibility) or `histplot` (an axes-level function for histograms).\n",
      "  warnings.warn(msg, FutureWarning)\n",
      "/home/anugrahyogaprt/.local/lib/python3.8/site-packages/seaborn/distributions.py:2619: FutureWarning: `distplot` is a deprecated function and will be removed in a future version. Please adapt your code to use either `displot` (a figure-level function with similar flexibility) or `histplot` (an axes-level function for histograms).\n",
      "  warnings.warn(msg, FutureWarning)\n"
     ]
    },
    {
     "data": {
      "text/plain": [
       "<matplotlib.legend.Legend at 0x7ff35da98d30>"
      ]
     },
     "execution_count": 52,
     "metadata": {},
     "output_type": "execute_result"
    },
    {
     "data": {
      "image/png": "[encoded data removed]",
      "text/plain": [
       "<Figure size 1368x576 with 1 Axes>"
      ]
     },
     "metadata": {
      "needs_background": "light"
     },
     "output_type": "display_data"
    }
   ],
   "source": [
    "%matplotlib inline\n",
    "import matplotlib.pyplot as plt\n",
    "import seaborn as sns\n",
    "\n",
    "dki_pop = np.random.normal(df_dki.mean(), df_dki.std(),100000)\n",
    "jabar_pop = np.random.normal(df_jabar.mean(),df_jabar.std(),100000)\n",
    "\n",
    "ci = stats.norm.interval(0.95, df_dki.mean(), df_dki.std())\n",
    "plt.figure(figsize=(19, 8))\n",
    "sns.distplot(dki_pop, label='DKI Jakarta average new cases *Pop',color='blue')\n",
    "sns.distplot(jabar_pop, label='Jabar average new cases *Pop',color='red')\n",
    "\n",
    "plt.axvline(df_dki.mean(), color='blue', linewidth=2, label='DKI_Jakarta mean')\n",
    "plt.axvline(df_jabar.mean(), color='red',  linewidth=2, label='Jawa Barat mean')\n",
    "\n",
    "plt.axvline(ci[1], color='green', linestyle='dashed', linewidth=2, label='confidence threshold of 95%')\n",
    "plt.axvline(ci[0], color='green', linestyle='dashed', linewidth=2)\n",
    "\n",
    "plt.axvline(dki_pop.mean()+t_stat*dki_pop.std(), color='black', linestyle='dashed', linewidth=2, label = 'Alternative Hypothesis')\n",
    "plt.axvline(dki_pop.mean()-t_stat*dki_pop.std(), color='black', linestyle='dashed', linewidth=2)\n",
    "\n",
    "plt.legend()"
   ]
  },
  {
   "cell_type": "code",
   "execution_count": 44,
   "metadata": {},
   "outputs": [
    {
     "data": {
      "text/plain": [
       "(-3301.690156425004, 7285.723033137332)"
      ]
     },
     "execution_count": 44,
     "metadata": {},
     "output_type": "execute_result"
    }
   ],
   "source": [
    "ci"
   ]
  },
  {
   "cell_type": "code",
   "execution_count": null,
   "metadata": {},
   "outputs": [],
   "source": []
  }
 ],
 "metadata": {
  "interpreter": {
   "hash": "916dbcbb3f70747c44a77c7bcd40155683ae19c65e1c03b4aa3499c5328201f1"
  },
  "kernelspec": {
   "display_name": "Python 3.8.10 64-bit",
   "language": "python",
   "name": "python3"
  },
  "language_info": {
   "codemirror_mode": {
    "name": "ipython",
    "version": 3
   },
   "file_extension": ".py",
   "mimetype": "text/x-python",
   "name": "python",
   "nbconvert_exporter": "python",
   "pygments_lexer": "ipython3",
   "version": "3.8.10"
  },
  "orig_nbformat": 4
 },
 "nbformat": 4,
 "nbformat_minor": 2
}
